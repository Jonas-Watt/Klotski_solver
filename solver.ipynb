{
 "cells": [
  {
   "cell_type": "code",
   "execution_count": 143,
   "metadata": {},
   "outputs": [],
   "source": [
    "import copy\n",
    "from itertools import chain"
   ]
  },
  {
   "cell_type": "code",
   "execution_count": 123,
   "metadata": {},
   "outputs": [],
   "source": [
    "# board = [[1x1 pieces], [1x2 pieces], [2x1 pieces], [2x2 pieces]] (the lower-left block of each piece)\n",
    "start_board_state = [[[0, 0], [1, 1], [2, 1], [3, 0]], [[0, 3], [0, 1], [3, 3], [3, 1]], [[1, 2]], [[1, 3]]]"
   ]
  },
  {
   "cell_type": "code",
   "execution_count": 174,
   "metadata": {},
   "outputs": [],
   "source": [
    "class Node:\n",
    "    def __init__(self, parent, board_state):\n",
    "        self.parent = parent\n",
    "        self.board_state = board_state\n",
    "        self.compressed_board = self.compress()\n",
    "        self.children = []\n",
    "    \n",
    "    def compress(self):\n",
    "        return \n",
    "    \n",
    "    def  generate_children(self):\n",
    "        for type in range(len(self.board_state)):\n",
    "            for piece in range(len(self.board_state[type])):\n",
    "                for direction in [[-1, 0], [0, -1], [0, 1], [1, 0]]:\n",
    "                    potential_child = self.move_if_possible(type, piece, direction)\n",
    "                    if potential_child == None:\n",
    "                        continue\n",
    "                    if not self.child_duplicate(potential_child):\n",
    "                        self.children.append(Node(None, potential_child))\n",
    "        return\n",
    "    \n",
    "    def move_if_possible(self, type, piece, direction):\n",
    "        board_without_piece = copy.deepcopy(self.board_state)\n",
    "        del board_without_piece[type][piece]\n",
    "        moved_piece = [sum(x) for x in zip(copy.deepcopy(self.board_state[type][piece]), direction)]\n",
    "        expanded_piece = self.expand_piece(type, moved_piece)\n",
    "        for block in expanded_piece:\n",
    "            if block[0] < 0 or block[0] > 3 or block[1] < 0 or block[1] > 4:\n",
    "                return\n",
    "            for type_wo in board_without_piece:\n",
    "                for piece_wo in type_wo:\n",
    "                    if block == piece_wo:\n",
    "                        return\n",
    "        expanded_board_wo =[]\n",
    "        for type_wo in range(len(board_without_piece)):\n",
    "            for piece_wo in board_without_piece[type_wo]:\n",
    "                expanded_board_wo.append(self.expand_piece(type_wo, piece_wo))\n",
    "        all_blocks_wo = list(chain.from_iterable(expanded_board_wo))\n",
    "        for block in expanded_piece:\n",
    "            if block in all_blocks_wo:\n",
    "                return\n",
    "        output = copy.deepcopy(self.board_state)\n",
    "        output[type][piece] = moved_piece\n",
    "        return output\n",
    "    \n",
    "    def expand_piece(self, type, piece):\n",
    "        if type == 0:\n",
    "            output = [piece]\n",
    "        elif type == 1:\n",
    "            output = [piece, [sum(x) for x in zip(piece, [0, 1])]]\n",
    "        elif type == 2:\n",
    "            output = [piece, [sum(x) for x in zip(piece, [1, 0])]]\n",
    "        elif type == 3:\n",
    "            output = [piece, [sum(x) for x in zip(piece, [1, 0])], \n",
    "                      [sum(x) for x in zip(piece, [0, 1])], \n",
    "                      [sum(x) for x in zip(piece, [1, 1])]]\n",
    "        return output\n",
    "    \n",
    "    def child_duplicate(self, potential_child):\n",
    "        return False"
   ]
  },
  {
   "cell_type": "code",
   "execution_count": 175,
   "metadata": {},
   "outputs": [],
   "source": [
    "def parent_pointer(child, parent):\n",
    "    child.parent = parent"
   ]
  },
  {
   "cell_type": "code",
   "execution_count": 181,
   "metadata": {},
   "outputs": [],
   "source": [
    "root = Node(None, start_board_state)\n",
    "root.generate_children()\n",
    "for child in root.children:\n",
    "    parent_pointer(child, root)"
   ]
  },
  {
   "cell_type": "markdown",
   "metadata": {},
   "source": [
    "\n",
    "\n",
    "\n",
    "\n",
    "\n",
    "\n",
    "\n",
    "\n",
    "\n",
    "\n",
    "\n",
    "\n",
    "\n",
    "\n",
    "\n",
    "\n",
    "\n",
    "\n",
    "\n",
    "\n",
    "\n",
    "\n",
    "\n",
    "\n",
    "\n",
    "\n",
    "\n",
    "\n",
    "\n",
    "\n",
    "\n",
    "\n",
    "\n"
   ]
  },
  {
   "cell_type": "code",
   "execution_count": 26,
   "metadata": {},
   "outputs": [
    {
     "data": {
      "text/plain": [
       "True"
      ]
     },
     "execution_count": 26,
     "metadata": {},
     "output_type": "execute_result"
    }
   ],
   "source": [
    "root.parent == None"
   ]
  },
  {
   "cell_type": "code",
   "execution_count": 10,
   "metadata": {},
   "outputs": [
    {
     "data": {
      "text/plain": [
       "{'[0, 1]', '[0, 2]', '[1, 0]', '[1, 1]'}"
      ]
     },
     "execution_count": 10,
     "metadata": {},
     "output_type": "execute_result"
    }
   ],
   "source": [
    "{'[1, 1]', '[0, 1]', '[1, 0]', '[0, 2]'}"
   ]
  }
 ],
 "metadata": {
  "kernelspec": {
   "display_name": "Python 3",
   "language": "python",
   "name": "python3"
  },
  "language_info": {
   "codemirror_mode": {
    "name": "ipython",
    "version": 3
   },
   "file_extension": ".py",
   "mimetype": "text/x-python",
   "name": "python",
   "nbconvert_exporter": "python",
   "pygments_lexer": "ipython3",
   "version": "3.7.6"
  }
 },
 "nbformat": 4,
 "nbformat_minor": 4
}
