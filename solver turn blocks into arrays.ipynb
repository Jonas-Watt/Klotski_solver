{
 "cells": [
  {
   "cell_type": "code",
   "execution_count": 56,
   "metadata": {},
   "outputs": [
    {
     "name": "stdout",
     "output_type": "stream",
     "text": [
      "The line_profiler extension is already loaded. To reload it, use:\n",
      "  %reload_ext line_profiler\n"
     ]
    }
   ],
   "source": [
    "import numpy as np\n",
    "import pickle\n",
    "import time\n",
    "import itertools\n",
    "from operator import add\n",
    "%load_ext line_profiler"
   ]
  },
  {
   "cell_type": "code",
   "execution_count": 68,
   "metadata": {},
   "outputs": [],
   "source": [
    "# board = [[1x1 pieces], [1x2 pieces], [2x1 pieces], [2x2 pieces]] (the lower-left block of each piece)\n",
    "start_board_state = [[[0, 0]], [[1, 1]], [[2, 1]], [[3, 0]], \n",
    "                     [[0, 3], [0, 4]], [[0, 1], [0, 2]], [[3, 3], [3, 4]], [[3, 1], [3, 2]], \n",
    "                     [[1, 2], [2, 2]], \n",
    "                     [[1, 3], [1, 4], [2, 3], [2, 4]]]\n",
    "\n",
    "start_board_state = [[np.array(block) for block in piece] for piece in start_board_state]"
   ]
  },
  {
   "cell_type": "code",
   "execution_count": 72,
   "metadata": {},
   "outputs": [
    {
     "data": {
      "text/plain": [
       "[[array([1, 0])],\n",
       " [array([1, 1])],\n",
       " [array([2, 1])],\n",
       " [array([3, 0])],\n",
       " [array([0, 3]), array([0, 4])],\n",
       " [array([0, 1]), array([0, 2])],\n",
       " [array([3, 3]), array([3, 4])],\n",
       " [array([3, 1]), array([3, 2])],\n",
       " [array([1, 2]), array([2, 2])],\n",
       " [array([1, 3]), array([1, 4]), array([2, 3]), array([2, 4])]]"
      ]
     },
     "execution_count": 72,
     "metadata": {},
     "output_type": "execute_result"
    }
   ],
   "source": [
    "start_board_state"
   ]
  },
  {
   "cell_type": "code",
   "execution_count": 48,
   "metadata": {},
   "outputs": [],
   "source": [
    "class Node:\n",
    "    def __init__(self, board_state):\n",
    "        self.parent = None\n",
    "        self.board_state = board_state\n",
    "        self.children = []\n",
    "        self.add_to_history(self.compress(self.board_state))\n",
    "    \n",
    "    def add_to_history(self, compressed_board):    \n",
    "        global history\n",
    "        history.add(compressed_board)      \n",
    "        return\n",
    "    \n",
    "    def compress(self, board_state):\n",
    "        return str(sorted([str(piece) for piece in start_board_state]))\n",
    "    \n",
    "    def  generate_children(self):\n",
    "        global history\n",
    "        for piece_type in range(len(self.board_state)):\n",
    "            for piece in range(len(self.board_state[piece_type])):\n",
    "                for direction in np.array([[-1, 0], [0, -1], [0, 1], [1, 0]]):\n",
    "                    potential_child = self.move_if_possible(piece_type, piece, direction)\n",
    "                    if potential_child == None:\n",
    "                        pass\n",
    "                    elif self.compress(potential_child) not in history:\n",
    "                        self.children.append(Node(potential_child))\n",
    "        return\n",
    "    \n",
    "    def move_if_possible(self, piece_type, piece, direction):\n",
    "        \n",
    "        \n",
    "        \n",
    "        \n",
    "        board_without_piece = [[list(piece) for piece in piece_type] for piece_type in self.board_state]\n",
    "        del board_without_piece[piece_type][piece]\n",
    "        moved_piece = [sum(x) for x in zip(self.board_state[piece_type][piece][:], direction)]\n",
    "        expanded_piece = self.expand_piece(piece_type, moved_piece)\n",
    "        for block in expanded_piece:\n",
    "            if block[0] < 0 or block[0] > 3 or block[1] < 0 or block[1] > 4:\n",
    "                return\n",
    "            for piece_type_wo in board_without_piece:\n",
    "                for piece_wo in piece_type_wo:\n",
    "                    if block == piece_wo:\n",
    "                        return\n",
    "        all_blocks_wo = []\n",
    "        upper_right_expanded = max(expanded_piece)\n",
    "        for piece_type_wo in range(len(board_without_piece)):\n",
    "            for piece_wo in board_without_piece[piece_type_wo]:\n",
    "                if piece_wo[0] <= upper_right_expanded[0] or piece_wo[1] <= upper_right_expanded[1]:\n",
    "                    expanded_wo = self.expand_piece(piece_type_wo, piece_wo)\n",
    "                    for block in expanded_wo:\n",
    "                        if block in expanded_piece:\n",
    "                            return\n",
    "        output = [[piece[:] for piece in piece_type] for piece_type in self.board_state]\n",
    "        output[piece_type][piece] = moved_piece\n",
    "        return output\n",
    "    \n",
    "    def expand_piece(self, piece_type, piece):\n",
    "        if piece_type == 0:\n",
    "            output = [piece]\n",
    "        elif piece_type == 1:\n",
    "            output = [piece, list(map(add, piece, [0, 1]))]\n",
    "        elif piece_type == 2:\n",
    "            output = [piece, list(map(add, piece, [1, 0]))]\n",
    "        elif piece_type == 3:\n",
    "            output = [piece, list(map(add, piece, [1, 0])), \n",
    "                      list(map(add, piece, [0, 1])), \n",
    "                      list(map(add, piece, [1, 1]))]\n",
    "        return output\n",
    "\n",
    "    def draw_board(self):\n",
    "        expanded_board = []\n",
    "        for piece_type in range(len(self.board_state)):\n",
    "            for piece in self.board_state[piece_type]:\n",
    "                expanded_board.append(self.expand_piece(piece_type, piece))\n",
    "        board = np.full((5, 4), ' ')\n",
    "        for i in range(10):\n",
    "            # X-Wert\n",
    "            for x in range(len(expanded_board[i])):\n",
    "                board[expanded_board[i][x][1]][expanded_board[i][x][0]] = i\n",
    "        return np.flip(np.fliplr(board))"
   ]
  },
  {
   "cell_type": "code",
   "execution_count": 28,
   "metadata": {},
   "outputs": [],
   "source": [
    "def parent_pointer(child, parent):\n",
    "    child.parent = parent"
   ]
  },
  {
   "cell_type": "code",
   "execution_count": 29,
   "metadata": {},
   "outputs": [],
   "source": [
    "def get_layer(root, depth):\n",
    "    root = [root]\n",
    "    for layer in range(depth):\n",
    "        new_root = []\n",
    "        for node in root:    \n",
    "            for child in node.children:\n",
    "                new_root.append(child)\n",
    "            root = new_root\n",
    "    return root"
   ]
  },
  {
   "cell_type": "code",
   "execution_count": 30,
   "metadata": {},
   "outputs": [],
   "source": [
    "def get_last_layer(root):\n",
    "    root = [root]\n",
    "    depth = 0\n",
    "    while True:\n",
    "        new_root = []\n",
    "        for node in root:    \n",
    "            for child in node.children:\n",
    "                new_root.append(child)\n",
    "        if new_root == []:\n",
    "            return root\n",
    "        root = new_root\n",
    "        depth += 1"
   ]
  },
  {
   "cell_type": "code",
   "execution_count": 31,
   "metadata": {},
   "outputs": [],
   "source": [
    "class Tree:\n",
    "    def __init__(self, root):\n",
    "        self.root = root\n",
    "        self.history = []"
   ]
  },
  {
   "cell_type": "code",
   "execution_count": 32,
   "metadata": {},
   "outputs": [],
   "source": [
    "def save(root):\n",
    "    with open(file, 'wb') as f:\n",
    "        pickle.dump(root, f, pickle.HIGHEST_PROTOCOL)\n",
    "        \n",
    "def load(file):\n",
    "    with open(file, 'rb') as f:\n",
    "        return pickle.load(f)"
   ]
  },
  {
   "cell_type": "code",
   "execution_count": 50,
   "metadata": {
    "scrolled": true
   },
   "outputs": [
    {
     "ename": "UnboundLocalError",
     "evalue": "local variable 'output' referenced before assignment",
     "output_type": "error",
     "traceback": [
      "\u001b[1;31m---------------------------------------------------------------------------\u001b[0m",
      "\u001b[1;31mUnboundLocalError\u001b[0m                         Traceback (most recent call last)",
      "\u001b[1;32m<ipython-input-50-33175749bbe7>\u001b[0m in \u001b[0;36m<module>\u001b[1;34m\u001b[0m\n\u001b[0;32m      6\u001b[0m \u001b[0mlayer\u001b[0m \u001b[1;33m=\u001b[0m \u001b[0mget_layer\u001b[0m\u001b[1;33m(\u001b[0m\u001b[0mroot\u001b[0m\u001b[1;33m,\u001b[0m \u001b[1;36m0\u001b[0m\u001b[1;33m)\u001b[0m\u001b[1;33m\u001b[0m\u001b[1;33m\u001b[0m\u001b[0m\n\u001b[0;32m      7\u001b[0m \u001b[1;32mwhile\u001b[0m \u001b[1;32mnot\u001b[0m \u001b[0mlayer\u001b[0m \u001b[1;33m==\u001b[0m \u001b[1;33m[\u001b[0m\u001b[1;33m]\u001b[0m\u001b[1;33m:\u001b[0m\u001b[1;33m\u001b[0m\u001b[1;33m\u001b[0m\u001b[0m\n\u001b[1;32m----> 8\u001b[1;33m     \u001b[1;33m[\u001b[0m\u001b[0mnode\u001b[0m\u001b[1;33m.\u001b[0m\u001b[0mgenerate_children\u001b[0m\u001b[1;33m(\u001b[0m\u001b[1;33m)\u001b[0m \u001b[1;32mfor\u001b[0m \u001b[0mnode\u001b[0m \u001b[1;32min\u001b[0m \u001b[0mlayer\u001b[0m\u001b[1;33m]\u001b[0m\u001b[1;33m\u001b[0m\u001b[1;33m\u001b[0m\u001b[0m\n\u001b[0m\u001b[0;32m      9\u001b[0m     \u001b[1;32mfor\u001b[0m \u001b[0mnode\u001b[0m \u001b[1;32min\u001b[0m \u001b[0mlayer\u001b[0m\u001b[1;33m:\u001b[0m\u001b[1;33m\u001b[0m\u001b[1;33m\u001b[0m\u001b[0m\n\u001b[0;32m     10\u001b[0m         \u001b[1;32mfor\u001b[0m \u001b[0mchild\u001b[0m \u001b[1;32min\u001b[0m \u001b[0mnode\u001b[0m\u001b[1;33m.\u001b[0m\u001b[0mchildren\u001b[0m\u001b[1;33m:\u001b[0m\u001b[1;33m\u001b[0m\u001b[1;33m\u001b[0m\u001b[0m\n",
      "\u001b[1;32m<ipython-input-50-33175749bbe7>\u001b[0m in \u001b[0;36m<listcomp>\u001b[1;34m(.0)\u001b[0m\n\u001b[0;32m      6\u001b[0m \u001b[0mlayer\u001b[0m \u001b[1;33m=\u001b[0m \u001b[0mget_layer\u001b[0m\u001b[1;33m(\u001b[0m\u001b[0mroot\u001b[0m\u001b[1;33m,\u001b[0m \u001b[1;36m0\u001b[0m\u001b[1;33m)\u001b[0m\u001b[1;33m\u001b[0m\u001b[1;33m\u001b[0m\u001b[0m\n\u001b[0;32m      7\u001b[0m \u001b[1;32mwhile\u001b[0m \u001b[1;32mnot\u001b[0m \u001b[0mlayer\u001b[0m \u001b[1;33m==\u001b[0m \u001b[1;33m[\u001b[0m\u001b[1;33m]\u001b[0m\u001b[1;33m:\u001b[0m\u001b[1;33m\u001b[0m\u001b[1;33m\u001b[0m\u001b[0m\n\u001b[1;32m----> 8\u001b[1;33m     \u001b[1;33m[\u001b[0m\u001b[0mnode\u001b[0m\u001b[1;33m.\u001b[0m\u001b[0mgenerate_children\u001b[0m\u001b[1;33m(\u001b[0m\u001b[1;33m)\u001b[0m \u001b[1;32mfor\u001b[0m \u001b[0mnode\u001b[0m \u001b[1;32min\u001b[0m \u001b[0mlayer\u001b[0m\u001b[1;33m]\u001b[0m\u001b[1;33m\u001b[0m\u001b[1;33m\u001b[0m\u001b[0m\n\u001b[0m\u001b[0;32m      9\u001b[0m     \u001b[1;32mfor\u001b[0m \u001b[0mnode\u001b[0m \u001b[1;32min\u001b[0m \u001b[0mlayer\u001b[0m\u001b[1;33m:\u001b[0m\u001b[1;33m\u001b[0m\u001b[1;33m\u001b[0m\u001b[0m\n\u001b[0;32m     10\u001b[0m         \u001b[1;32mfor\u001b[0m \u001b[0mchild\u001b[0m \u001b[1;32min\u001b[0m \u001b[0mnode\u001b[0m\u001b[1;33m.\u001b[0m\u001b[0mchildren\u001b[0m\u001b[1;33m:\u001b[0m\u001b[1;33m\u001b[0m\u001b[1;33m\u001b[0m\u001b[0m\n",
      "\u001b[1;32m<ipython-input-48-4b823e61e24e>\u001b[0m in \u001b[0;36mgenerate_children\u001b[1;34m(self)\u001b[0m\n\u001b[0;32m     19\u001b[0m             \u001b[1;32mfor\u001b[0m \u001b[0mpiece\u001b[0m \u001b[1;32min\u001b[0m \u001b[0mrange\u001b[0m\u001b[1;33m(\u001b[0m\u001b[0mlen\u001b[0m\u001b[1;33m(\u001b[0m\u001b[0mself\u001b[0m\u001b[1;33m.\u001b[0m\u001b[0mboard_state\u001b[0m\u001b[1;33m[\u001b[0m\u001b[0mpiece_type\u001b[0m\u001b[1;33m]\u001b[0m\u001b[1;33m)\u001b[0m\u001b[1;33m)\u001b[0m\u001b[1;33m:\u001b[0m\u001b[1;33m\u001b[0m\u001b[1;33m\u001b[0m\u001b[0m\n\u001b[0;32m     20\u001b[0m                 \u001b[1;32mfor\u001b[0m \u001b[0mdirection\u001b[0m \u001b[1;32min\u001b[0m \u001b[1;33m[\u001b[0m\u001b[1;33m[\u001b[0m\u001b[1;33m-\u001b[0m\u001b[1;36m1\u001b[0m\u001b[1;33m,\u001b[0m \u001b[1;36m0\u001b[0m\u001b[1;33m]\u001b[0m\u001b[1;33m,\u001b[0m \u001b[1;33m[\u001b[0m\u001b[1;36m0\u001b[0m\u001b[1;33m,\u001b[0m \u001b[1;33m-\u001b[0m\u001b[1;36m1\u001b[0m\u001b[1;33m]\u001b[0m\u001b[1;33m,\u001b[0m \u001b[1;33m[\u001b[0m\u001b[1;36m0\u001b[0m\u001b[1;33m,\u001b[0m \u001b[1;36m1\u001b[0m\u001b[1;33m]\u001b[0m\u001b[1;33m,\u001b[0m \u001b[1;33m[\u001b[0m\u001b[1;36m1\u001b[0m\u001b[1;33m,\u001b[0m \u001b[1;36m0\u001b[0m\u001b[1;33m]\u001b[0m\u001b[1;33m]\u001b[0m\u001b[1;33m:\u001b[0m\u001b[1;33m\u001b[0m\u001b[1;33m\u001b[0m\u001b[0m\n\u001b[1;32m---> 21\u001b[1;33m                     \u001b[0mpotential_child\u001b[0m \u001b[1;33m=\u001b[0m \u001b[0mself\u001b[0m\u001b[1;33m.\u001b[0m\u001b[0mmove_if_possible\u001b[0m\u001b[1;33m(\u001b[0m\u001b[0mpiece_type\u001b[0m\u001b[1;33m,\u001b[0m \u001b[0mpiece\u001b[0m\u001b[1;33m,\u001b[0m \u001b[0mdirection\u001b[0m\u001b[1;33m)\u001b[0m\u001b[1;33m\u001b[0m\u001b[1;33m\u001b[0m\u001b[0m\n\u001b[0m\u001b[0;32m     22\u001b[0m                     \u001b[1;32mif\u001b[0m \u001b[0mpotential_child\u001b[0m \u001b[1;33m==\u001b[0m \u001b[1;32mNone\u001b[0m\u001b[1;33m:\u001b[0m\u001b[1;33m\u001b[0m\u001b[1;33m\u001b[0m\u001b[0m\n\u001b[0;32m     23\u001b[0m                         \u001b[1;32mpass\u001b[0m\u001b[1;33m\u001b[0m\u001b[1;33m\u001b[0m\u001b[0m\n",
      "\u001b[1;32m<ipython-input-48-4b823e61e24e>\u001b[0m in \u001b[0;36mmove_if_possible\u001b[1;34m(self, piece_type, piece, direction)\u001b[0m\n\u001b[0;32m     43\u001b[0m             \u001b[1;32mfor\u001b[0m \u001b[0mpiece_wo\u001b[0m \u001b[1;32min\u001b[0m \u001b[0mboard_without_piece\u001b[0m\u001b[1;33m[\u001b[0m\u001b[0mpiece_type_wo\u001b[0m\u001b[1;33m]\u001b[0m\u001b[1;33m:\u001b[0m\u001b[1;33m\u001b[0m\u001b[1;33m\u001b[0m\u001b[0m\n\u001b[0;32m     44\u001b[0m                 \u001b[1;32mif\u001b[0m \u001b[0mpiece_wo\u001b[0m\u001b[1;33m[\u001b[0m\u001b[1;36m0\u001b[0m\u001b[1;33m]\u001b[0m \u001b[1;33m<=\u001b[0m \u001b[0mupper_right_expanded\u001b[0m\u001b[1;33m[\u001b[0m\u001b[1;36m0\u001b[0m\u001b[1;33m]\u001b[0m \u001b[1;32mor\u001b[0m \u001b[0mpiece_wo\u001b[0m\u001b[1;33m[\u001b[0m\u001b[1;36m1\u001b[0m\u001b[1;33m]\u001b[0m \u001b[1;33m<=\u001b[0m \u001b[0mupper_right_expanded\u001b[0m\u001b[1;33m[\u001b[0m\u001b[1;36m1\u001b[0m\u001b[1;33m]\u001b[0m\u001b[1;33m:\u001b[0m\u001b[1;33m\u001b[0m\u001b[1;33m\u001b[0m\u001b[0m\n\u001b[1;32m---> 45\u001b[1;33m                     \u001b[0mexpanded_wo\u001b[0m \u001b[1;33m=\u001b[0m \u001b[0mself\u001b[0m\u001b[1;33m.\u001b[0m\u001b[0mexpand_piece\u001b[0m\u001b[1;33m(\u001b[0m\u001b[0mpiece_type_wo\u001b[0m\u001b[1;33m,\u001b[0m \u001b[0mpiece_wo\u001b[0m\u001b[1;33m)\u001b[0m\u001b[1;33m\u001b[0m\u001b[1;33m\u001b[0m\u001b[0m\n\u001b[0m\u001b[0;32m     46\u001b[0m                     \u001b[1;32mfor\u001b[0m \u001b[0mblock\u001b[0m \u001b[1;32min\u001b[0m \u001b[0mexpanded_wo\u001b[0m\u001b[1;33m:\u001b[0m\u001b[1;33m\u001b[0m\u001b[1;33m\u001b[0m\u001b[0m\n\u001b[0;32m     47\u001b[0m                         \u001b[1;32mif\u001b[0m \u001b[0mblock\u001b[0m \u001b[1;32min\u001b[0m \u001b[0mexpanded_piece\u001b[0m\u001b[1;33m:\u001b[0m\u001b[1;33m\u001b[0m\u001b[1;33m\u001b[0m\u001b[0m\n",
      "\u001b[1;32m<ipython-input-48-4b823e61e24e>\u001b[0m in \u001b[0;36mexpand_piece\u001b[1;34m(self, piece_type, piece)\u001b[0m\n\u001b[0;32m     62\u001b[0m                       \u001b[0mlist\u001b[0m\u001b[1;33m(\u001b[0m\u001b[0mmap\u001b[0m\u001b[1;33m(\u001b[0m\u001b[0madd\u001b[0m\u001b[1;33m,\u001b[0m \u001b[0mpiece\u001b[0m\u001b[1;33m,\u001b[0m \u001b[1;33m[\u001b[0m\u001b[1;36m0\u001b[0m\u001b[1;33m,\u001b[0m \u001b[1;36m1\u001b[0m\u001b[1;33m]\u001b[0m\u001b[1;33m)\u001b[0m\u001b[1;33m)\u001b[0m\u001b[1;33m,\u001b[0m\u001b[1;33m\u001b[0m\u001b[1;33m\u001b[0m\u001b[0m\n\u001b[0;32m     63\u001b[0m                       list(map(add, piece, [1, 1]))]\n\u001b[1;32m---> 64\u001b[1;33m         \u001b[1;32mreturn\u001b[0m \u001b[0moutput\u001b[0m\u001b[1;33m\u001b[0m\u001b[1;33m\u001b[0m\u001b[0m\n\u001b[0m\u001b[0;32m     65\u001b[0m \u001b[1;33m\u001b[0m\u001b[0m\n\u001b[0;32m     66\u001b[0m     \u001b[1;32mdef\u001b[0m \u001b[0mdraw_board\u001b[0m\u001b[1;33m(\u001b[0m\u001b[0mself\u001b[0m\u001b[1;33m)\u001b[0m\u001b[1;33m:\u001b[0m\u001b[1;33m\u001b[0m\u001b[1;33m\u001b[0m\u001b[0m\n",
      "\u001b[1;31mUnboundLocalError\u001b[0m: local variable 'output' referenced before assignment"
     ]
    }
   ],
   "source": [
    "# %%prun\n",
    "history = {*()}\n",
    "\n",
    "root = Node(start_board_state)\n",
    "i = 0\n",
    "layer = get_layer(root, 0)\n",
    "while not layer == []:\n",
    "    [node.generate_children() for node in layer]\n",
    "    for node in layer:\n",
    "        for child in node.children:\n",
    "            parent_pointer(node, child)\n",
    "    print('layer:', i, 'nodes:', len(layer))\n",
    "    i += 1\n",
    "    layer = get_layer(root, i)"
   ]
  },
  {
   "cell_type": "code",
   "execution_count": 10,
   "metadata": {},
   "outputs": [
    {
     "name": "stdout",
     "output_type": "stream",
     "text": [
      "total number of possible board states: 25955\n"
     ]
    }
   ],
   "source": [
    "i = 0\n",
    "total_nodes = 0\n",
    "while True:\n",
    "    layer = get_layer(root, i)\n",
    "    if layer == []:\n",
    "        break\n",
    "    total_nodes += len(layer)\n",
    "    i += 1\n",
    "print('total number of possible board states: %s'% total_nodes)"
   ]
  },
  {
   "cell_type": "markdown",
   "metadata": {},
   "source": [
    "https://jakevdp.github.io/PythonDataScienceHandbook/01.07-timing-and-profiling.html\n",
    "\n",
    "https://towardsdatascience.com/speed-up-jupyter-notebooks-20716cbe2025"
   ]
  },
  {
   "cell_type": "code",
   "execution_count": 26,
   "metadata": {},
   "outputs": [
    {
     "data": {
      "text/plain": [
       "[[array([0, 0])],\n",
       " [array([1, 1])],\n",
       " [array([2, 1])],\n",
       " [array([3, 0])],\n",
       " [array([0, 3]), array([0, 4])],\n",
       " [array([0, 1]), array([0, 2])],\n",
       " [array([3, 3]), array([3, 4])],\n",
       " [array([3, 1]), array([3, 2])],\n",
       " [array([1, 2]), array([2, 2])],\n",
       " [array([1, 3]), array([1, 4]), array([2, 3]), array([2, 4])]]"
      ]
     },
     "execution_count": 26,
     "metadata": {},
     "output_type": "execute_result"
    }
   ],
   "source": [
    "start_board_state"
   ]
  }
 ],
 "metadata": {
  "kernelspec": {
   "display_name": "Python 3",
   "language": "python",
   "name": "python3"
  },
  "language_info": {
   "codemirror_mode": {
    "name": "ipython",
    "version": 3
   },
   "file_extension": ".py",
   "mimetype": "text/x-python",
   "name": "python",
   "nbconvert_exporter": "python",
   "pygments_lexer": "ipython3",
   "version": "3.7.6"
  }
 },
 "nbformat": 4,
 "nbformat_minor": 4
}
