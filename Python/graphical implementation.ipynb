{
 "cells": [
  {
   "cell_type": "code",
   "execution_count": 1,
   "metadata": {},
   "outputs": [],
   "source": [
    "import tkinter as tk"
   ]
  },
  {
   "cell_type": "code",
   "execution_count": 7,
   "metadata": {},
   "outputs": [],
   "source": [
    "gamestate = [[[0, 0]],\n",
    "             [[1, 1]],\n",
    "             [[2, 1]],\n",
    "             [[3, 0]],\n",
    "             [[0, 3], [0, 4]],\n",
    "             [[0, 1], [0, 2]],\n",
    "             [[3, 3], [3, 4]],\n",
    "             [[3, 1], [3, 2]],\n",
    "             [[1, 2], [2, 2]],\n",
    "             [[1, 3], [2, 3], [1, 4], [2, 4]]]"
   ]
  },
  {
   "cell_type": "code",
   "execution_count": 8,
   "metadata": {},
   "outputs": [],
   "source": [
    "root = tk.Tk()\n",
    "\n",
    "def draw_board(gamestate):\n",
    "    color = ['#ffffff', '#e6e6e6', '#cccccc', '#b3b3b3', '#999999', '#808080', '#666666', '#4d4d4d', '#333333', '#1a1a1a']\n",
    "    for i in range(len(gamestate)):\n",
    "        for j in gamestate[i]:\n",
    "            block = tk.Label(root, text=i, borderwidth=1, bg=color[i])\n",
    "            block.grid(row=4-j[1], column=j[0], sticky='ewns')\n",
    "\n",
    "    grid = root.grid_size()\n",
    "    for x in range(grid[0]):\n",
    "        root.grid_columnconfigure(x, minsize=50)\n",
    "    for y in range(grid[1]):\n",
    "        root.grid_rowconfigure(y, minsize=50)\n",
    "        \n",
    "draw_board(gamestate)\n",
    "\n",
    "root.mainloop()"
   ]
  }
 ],
 "metadata": {
  "kernelspec": {
   "display_name": "Python 3",
   "language": "python",
   "name": "python3"
  },
  "language_info": {
   "codemirror_mode": {
    "name": "ipython",
    "version": 3
   },
   "file_extension": ".py",
   "mimetype": "text/x-python",
   "name": "python",
   "nbconvert_exporter": "python",
   "pygments_lexer": "ipython3",
   "version": "3.7.6"
  }
 },
 "nbformat": 4,
 "nbformat_minor": 4
}
