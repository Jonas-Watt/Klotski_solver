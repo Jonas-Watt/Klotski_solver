{
 "cells": [
  {
   "cell_type": "markdown",
   "metadata": {},
   "source": [
    "Alles SUX"
   ]
  },
  {
   "cell_type": "code",
   "execution_count": null,
   "metadata": {},
   "outputs": [],
   "source": [
    "import numpy as np\n",
    "import copy"
   ]
  },
  {
   "cell_type": "code",
   "execution_count": null,
   "metadata": {},
   "outputs": [],
   "source": [
    "# creating pieces\n",
    "\n",
    "pieces = np.array([[[0, 3], [0, 4]],\n",
    "                   [[1, 3], [2, 3], [1, 4], [2, 4]],\n",
    "                   [[3, 3], [3, 4]],\n",
    "                   [[0, 1], [0, 2]],\n",
    "                   [[1, 2], [2, 2]],\n",
    "                   [[3, 1], [3, 2]],\n",
    "                   [[1, 1]],\n",
    "                   [[2, 1]],\n",
    "                   [[0, 0]],\n",
    "                   [[3, 0]]])\n",
    "\n",
    "# creating easy pieces\n",
    "'''\n",
    "pieces = np.array([[[0, 3], [0, 4]],\n",
    "                   [[1, 1], [2, 1], [1, 2], [2, 2]],\n",
    "                   [[3, 3], [3, 4]],\n",
    "                   [[0, 1], [0, 2]],\n",
    "                   [[1, 4], [2, 4]],\n",
    "                   [[3, 1], [3, 2]],\n",
    "                   [[1, 3]],\n",
    "                   [[2, 3]],\n",
    "                   [[1, 0]],\n",
    "                   [[2, 0]]])\n",
    "'''\n",
    "history = np.array([copy.deepcopy(pieces)])\n",
    "\n",
    "kill = 0"
   ]
  },
  {
   "cell_type": "code",
   "execution_count": null,
   "metadata": {},
   "outputs": [],
   "source": [
    "def draw_board(piece):\n",
    "    board = np.full((5, 4), ' ')\n",
    "    for i in range(10):\n",
    "        # X-Wert\n",
    "        for x in range(len(piece[i])):\n",
    "            board[piece[i][x][1]][piece[i][x][0]] = i\n",
    "    print(np.flip(np.fliplr(board)))"
   ]
  },
  {
   "cell_type": "code",
   "execution_count": null,
   "metadata": {},
   "outputs": [],
   "source": [
    "def move(pieces, piece, richtung):\n",
    "    for i in range(len(pieces[piece])):\n",
    "        pieces[piece][i] = list(np.add(pieces[piece][i], richtung))\n",
    "    return pieces[piece]"
   ]
  },
  {
   "cell_type": "code",
   "execution_count": null,
   "metadata": {},
   "outputs": [],
   "source": [
    "def move_possible(pieces, piece, richtung):\n",
    "    move(pieces, piece, richtung)\n",
    "    # nicht auf dem Spielbrett\n",
    "    for i in range(len(pieces[piece])):\n",
    "        for j in range(2):\n",
    "            if pieces[piece][i][j] > 3 + j or pieces[piece][i][j] < 0:\n",
    "                move(pieces, piece, np.negative(richtung))\n",
    "                return False\n",
    "    # Überlappung mit anderen pieces\n",
    "    for i in range(10):\n",
    "        if i == piece:\n",
    "            pass\n",
    "        else:\n",
    "            for j in range(len(pieces[i])):\n",
    "                for k in range(len(pieces[piece])):\n",
    "                    if np.array_equal(pieces[piece][k], pieces[i][j]):\n",
    "                        move(pieces, piece, np.negative(richtung))\n",
    "                        return False\n",
    "    move(pieces, piece, np.negative(richtung))\n",
    "    return True"
   ]
  },
  {
   "cell_type": "code",
   "execution_count": null,
   "metadata": {},
   "outputs": [],
   "source": [
    "def solve(pieces_in, zähler):\n",
    "    zähler += 1\n",
    "    richtungen = {\"[0, 1]\" : \"hoch\", \"[0, -1]\" : \"runter\", \"[1, 0]\" : \"rechts\", \"[-1, 0]\" : \"links\"}\n",
    "    global history\n",
    "    if zähler < 3000:    \n",
    "        if not pieces_in[1][0] == [1, 0]:\n",
    "            for i in range(10):\n",
    "                for j in [[0, 1], [0, -1], [1, 0], [-1, 0]]:\n",
    "                    if move_possible(pieces_in, i, j):\n",
    "                        pieces_in[i] = move(pieces_in, i, j)\n",
    "                        if not any(np.equal(history, pieces_in).all(1)):\n",
    "                            history = np.append(history, [copy.deepcopy(pieces_in)], axis=0)\n",
    "                            print(zähler, pieces[1][0])\n",
    "                            solve(pieces_in, zähler)\n",
    "                        move(pieces_in, i, np.negative(j))\n",
    "            return\n",
    "        print(zähler)\n",
    "        print(draw_board(pieces))\n",
    "        input(\"More?\")"
   ]
  },
  {
   "cell_type": "code",
   "execution_count": null,
   "metadata": {
    "scrolled": true
   },
   "outputs": [],
   "source": [
    "solve(pieces, 0)"
   ]
  },
  {
   "cell_type": "code",
   "execution_count": null,
   "metadata": {},
   "outputs": [],
   "source": [
    "'''\n",
    "def solve(pieces_in, zähler, weg):\n",
    "    zähler += 1\n",
    "    richtungen = {\"[0, 1]\" : \"hoch\", \"[0, -1]\" : \"runter\", \"[1, 0]\" : \"rechts\", \"[-1, 0]\" : \"links\"}\n",
    "    global history\n",
    "    if not pieces_in[1][0] == [1, 0] or kill == 1:\n",
    "        for i in range(10):\n",
    "            for j in [[0, 1], [0, -1], [1, 0], [-1, 0]]:\n",
    "                if move_possible(pieces_in, i, j):\n",
    "                    pieces_in[i] = move(pieces_in, i, j)\n",
    "                    if not any(np.equal(history, pieces_in).all(1)):\n",
    "                        weg.append('Klotz ' + str(i) + ' ' + richtungen[str(j)])\n",
    "                        history = np.append(history, [copy.deepcopy(pieces_in)], axis=0)\n",
    "                        solve(pieces_in, zähler, weg)\n",
    "                    move(pieces_in, i, np.negative(j))\n",
    "        return\n",
    "    if kill == 0:\n",
    "        for i in range(len(weg)):\n",
    "            print(weg[i])\n",
    "        print('Lösungsweg mit ' + str(len(weg)) + ' Schritten')\n",
    "        print(draw_board(pieces))\n",
    "    kill = 1\n",
    "'''\n",
    "print(\"yo\")"
   ]
  }
 ],
 "metadata": {
  "kernelspec": {
   "display_name": "Python 3",
   "language": "python",
   "name": "python3"
  },
  "language_info": {
   "codemirror_mode": {
    "name": "ipython",
    "version": 3
   },
   "file_extension": ".py",
   "mimetype": "text/x-python",
   "name": "python",
   "nbconvert_exporter": "python",
   "pygments_lexer": "ipython3",
   "version": "3.7.6"
  }
 },
 "nbformat": 4,
 "nbformat_minor": 4
}
