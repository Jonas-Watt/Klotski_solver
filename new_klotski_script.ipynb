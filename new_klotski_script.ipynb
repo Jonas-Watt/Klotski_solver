{
 "cells": [
  {
   "cell_type": "code",
   "execution_count": 2,
   "metadata": {},
   "outputs": [],
   "source": [
    "import operator\n",
    "import numpy as np"
   ]
  },
  {
   "cell_type": "code",
   "execution_count": 11,
   "metadata": {},
   "outputs": [],
   "source": [
    "pieces = [[[0, 3], [0, 4]], \n",
    "          [[1, 3], [2, 3], [1, 4], [2, 4]],\n",
    "          [[3, 3], [3, 4]],\n",
    "          [[0, 1], [0, 2]],\n",
    "          [[1, 2], [2, 2]],\n",
    "          [[3, 1], [3, 2]],\n",
    "          [[1, 1]],\n",
    "          [[2, 1]],\n",
    "          [[0, 0]],\n",
    "          [[3, 0]]]\n",
    "\n",
    "easy_pieces = [[[0, 3], [0, 4]],\n",
    "               [[1, 1], [2, 1], [1, 2], [2, 2]],\n",
    "               [[3, 3], [3, 4]],\n",
    "               [[0, 1], [0, 2]],\n",
    "               [[1, 4], [2, 4]],\n",
    "               [[3, 1], [3, 2]],\n",
    "               [[1, 3]],\n",
    "               [[2, 3]],\n",
    "               [[1, 0]],\n",
    "               [[2, 0]]]"
   ]
  },
  {
   "cell_type": "code",
   "execution_count": 4,
   "metadata": {},
   "outputs": [],
   "source": [
    "def draw_board(piece):\n",
    "    board = np.full((5, 4), ' ')\n",
    "    for i in range(10):\n",
    "        # X-Wert\n",
    "        for x in range(len(piece[i])):\n",
    "            board[piece[i][x][1]][piece[i][x][0]] = i\n",
    "    print(np.flip(np.fliplr(board)), \"\\n\")"
   ]
  },
  {
   "cell_type": "code",
   "execution_count": 5,
   "metadata": {},
   "outputs": [],
   "source": [
    "def move(input, richtung):\n",
    "    return [list(map(operator.add, point, richtung)) for point in input]"
   ]
  },
  {
   "cell_type": "code",
   "execution_count": 6,
   "metadata": {},
   "outputs": [],
   "source": [
    "def move_possible(input_pieces, input_piece, richtung):\n",
    "    possible_piece = move(input_piece, richtung)\n",
    "    # außerhalb des Feldes\n",
    "    if (True in [x_coordinate > 3 or x_coordinate < 0 for \n",
    "                 x_coordinate in [point[0] for point in possible_piece]] or \n",
    "        True in [y_coordinate > 4 or y_coordinate < 0 for \n",
    "                 y_coordinate in [point[1] for point in possible_piece]]):\n",
    "        return False\n",
    "    # Überlappung\n",
    "    for point in possible_piece:\n",
    "        if point in input_piece:\n",
    "            continue\n",
    "        if 1 in [block.count(point) for block in input_pieces]:\n",
    "            return False\n",
    "    return True"
   ]
  },
  {
   "cell_type": "code",
   "execution_count": 7,
   "metadata": {},
   "outputs": [],
   "source": [
    "def compress(input_pieces):\n",
    "    len1 = []\n",
    "    len2 = []\n",
    "    len4 = []\n",
    "    for i in range(len(input_pieces)):\n",
    "        if len(input_pieces[i]) == 1:\n",
    "            len1.append((input_pieces[i][0][0], input_pieces[i][0][1]))\n",
    "            len1.sort(key = operator.itemgetter(0, 1))\n",
    "        if len(input_pieces[i]) == 2:\n",
    "            len2.append((input_pieces[i][0][0], input_pieces[i][0][1]))\n",
    "            len2.sort(key = operator.itemgetter(0, 1))\n",
    "        if len(input_pieces[i]) == 4:\n",
    "            len4.append((input_pieces[i][0][0], input_pieces[i][0][1]))\n",
    "    return [len1, len2, len4]"
   ]
  },
  {
   "cell_type": "code",
   "execution_count": 8,
   "metadata": {},
   "outputs": [],
   "source": [
    "def solve(initial_pieces, tiefe, suchtiefe, weg):\n",
    "    tiefe += 1\n",
    "    richtungen = {\"[0, 1]\" : \"hoch\", \n",
    "                  \"[0, -1]\" : \"runter\", \n",
    "                  \"[1, 0]\" : \"rechts\", \n",
    "                  \"[-1, 0]\" : \"links\"}\n",
    "    weg.append(initial_pieces.copy())\n",
    "    global history\n",
    "    history.append(compress(initial_pieces))\n",
    "    if tiefe > suchtiefe:\n",
    "       return\n",
    "    if not initial_pieces[1] == [[1, 0], [2, 0], [1, 1], [2, 1]]:\n",
    "        for iter_piece in range(10):\n",
    "            for richtung in [[0, 1], [0, -1], [1, 0], [-1, 0]]:\n",
    "                if move_possible(initial_pieces, initial_pieces[iter_piece], richtung):\n",
    "                    initial_pieces[iter_piece] = move(initial_pieces[iter_piece], richtung)\n",
    "                    if not compress(initial_pieces) in history:\n",
    "                        solve(initial_pieces, tiefe, suchtiefe, weg)\n",
    "                    initial_pieces[iter_piece] = move(initial_pieces[iter_piece], \n",
    "                                                      [-i for i in richtung])\n",
    "        return\n",
    "    print(tiefe)\n",
    "    print(len(weg))\n",
    "    draw_board(initial_pieces.copy())"
   ]
  },
  {
   "cell_type": "code",
   "execution_count": 19,
   "metadata": {
    "scrolled": true
   },
   "outputs": [
    {
     "name": "stdout",
     "output_type": "stream",
     "text": [
      "[['0' '4' '4' '2']\n",
      " ['0' '6' '7' '2']\n",
      " ['3' '1' '1' '5']\n",
      " ['3' '1' '1' '5']\n",
      " [' ' '8' '9' ' ']] \n",
      "\n",
      "9\n",
      "55\n",
      "[['0' '4' '4' '2']\n",
      " ['0' '6' '7' '2']\n",
      " ['3' ' ' ' ' '5']\n",
      " ['3' '1' '1' '5']\n",
      " ['8' '1' '1' '9']] \n",
      "\n"
     ]
    }
   ],
   "source": [
    "history = []\n",
    "tiefe = -1\n",
    "draw_board(easy_pieces.copy())\n",
    "solve(easy_pieces.copy(), tiefe, 10, [])"
   ]
  },
  {
   "cell_type": "markdown",
   "metadata": {},
   "source": [
    "# Fix weg"
   ]
  }
 ],
 "metadata": {
  "kernelspec": {
   "display_name": "Python 3",
   "language": "python",
   "name": "python3"
  },
  "language_info": {
   "codemirror_mode": {
    "name": "ipython",
    "version": 3
   },
   "file_extension": ".py",
   "mimetype": "text/x-python",
   "name": "python",
   "nbconvert_exporter": "python",
   "pygments_lexer": "ipython3",
   "version": "3.7.6"
  },
  "widgets": {
   "application/vnd.jupyter.widget-state+json": {
    "state": {},
    "version_major": 2,
    "version_minor": 0
   }
  }
 },
 "nbformat": 4,
 "nbformat_minor": 4
}
