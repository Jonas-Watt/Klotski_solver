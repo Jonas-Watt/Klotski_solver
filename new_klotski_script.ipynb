{
 "cells": [
  {
   "cell_type": "code",
   "execution_count": 1,
   "metadata": {},
   "outputs": [],
   "source": [
    "import operator\n",
    "import numpy as np"
   ]
  },
  {
   "cell_type": "code",
   "execution_count": 2,
   "metadata": {},
   "outputs": [],
   "source": [
    "pieces = [[[0, 3], [0, 4]], \n",
    "          [[1, 3], [2, 3], [1, 4], [2, 4]],\n",
    "          [[3, 3], [3, 4]],\n",
    "          [[0, 1], [0, 2]],\n",
    "          [[1, 2], [2, 2]],\n",
    "          [[3, 1], [3, 2]],\n",
    "          [[1, 1]],\n",
    "          [[2, 1]],\n",
    "          [[0, 0]],\n",
    "          [[3, 0]]]\n",
    "\n",
    "easy_pieces = [[[0, 3], [0, 4]],\n",
    "               [[1, 1], [2, 1], [1, 2], [2, 2]],\n",
    "               [[3, 3], [3, 4]],\n",
    "               [[0, 1], [0, 2]],\n",
    "               [[1, 4], [2, 4]],\n",
    "               [[3, 1], [3, 2]],\n",
    "               [[1, 3]],\n",
    "               [[2, 3]],\n",
    "               [[1, 0]],\n",
    "               [[2, 0]]]"
   ]
  },
  {
   "cell_type": "code",
   "execution_count": 3,
   "metadata": {},
   "outputs": [],
   "source": [
    "def draw_board(piece):\n",
    "    board = np.full((5, 4), ' ')\n",
    "    for i in range(10):\n",
    "        # X-Wert\n",
    "        for x in range(len(piece[i])):\n",
    "            board[piece[i][x][1]][piece[i][x][0]] = i\n",
    "    print(np.flip(np.fliplr(board)), \"\\n\")"
   ]
  },
  {
   "cell_type": "code",
   "execution_count": 4,
   "metadata": {},
   "outputs": [],
   "source": [
    "def move(input, richtung):\n",
    "    return [list(map(operator.add, point, richtung)) for point in input]"
   ]
  },
  {
   "cell_type": "code",
   "execution_count": 5,
   "metadata": {},
   "outputs": [],
   "source": [
    "def move_possible(input_pieces, input_piece, richtung):\n",
    "    possible_piece = move(input_piece, richtung)\n",
    "    # außerhalb des Feldes\n",
    "    if (True in [x_coordinate > 3 or x_coordinate < 0 for \n",
    "                 x_coordinate in [point[0] for point in possible_piece]] or \n",
    "        True in [y_coordinate > 4 or y_coordinate < 0 for \n",
    "                 y_coordinate in [point[1] for point in possible_piece]]):\n",
    "        return False\n",
    "    # Überlappung\n",
    "    for point in possible_piece:\n",
    "        if point in input_piece:\n",
    "            continue\n",
    "        if 1 in [block.count(point) for block in input_pieces]:\n",
    "            return False\n",
    "    return True"
   ]
  },
  {
   "cell_type": "code",
   "execution_count": 6,
   "metadata": {},
   "outputs": [],
   "source": [
    "def compress(input_pieces):\n",
    "    len1 = []\n",
    "    len2 = []\n",
    "    len4 = []\n",
    "    for i in range(len(input_pieces)):\n",
    "        if len(input_pieces[i]) == 1:\n",
    "            len1.append((input_pieces[i][0][0], input_pieces[i][0][1]))\n",
    "            len1.sort(key = operator.itemgetter(0, 1))\n",
    "        if len(input_pieces[i]) == 2:\n",
    "            len2.append((input_pieces[i][0][0], input_pieces[i][0][1]))\n",
    "            len2.sort(key = operator.itemgetter(0, 1))\n",
    "        if len(input_pieces[i]) == 4:\n",
    "            len4.append((input_pieces[i][0][0], input_pieces[i][0][1]))\n",
    "    return [len1, len2, len4]"
   ]
  },
  {
   "cell_type": "code",
   "execution_count": 14,
   "metadata": {},
   "outputs": [],
   "source": [
    "def solve(initial_pieces, tiefe, suchtiefe, weg):\n",
    "    tiefe += 1\n",
    "    richtungen = {\"[0, 1]\" : \"hoch\", \n",
    "                  \"[0, -1]\" : \"runter\", \n",
    "                  \"[1, 0]\" : \"rechts\", \n",
    "                  \"[-1, 0]\" : \"links\"}\n",
    "    global history\n",
    "    global num_lösungen\n",
    "    history.append(compress(initial_pieces))\n",
    "    if tiefe > suchtiefe:\n",
    "       return\n",
    "    if not initial_pieces[1] == [[1, 0], [2, 0], [1, 1], [2, 1]]:\n",
    "        for iter_piece in range(10):\n",
    "            for richtung in [[0, 1], [0, -1], [1, 0], [-1, 0]]:\n",
    "                if move_possible(initial_pieces, initial_pieces[iter_piece], richtung):\n",
    "                    initial_pieces[iter_piece] = move(initial_pieces[iter_piece], richtung)\n",
    "                    if not compress(initial_pieces) in history:\n",
    "                        weg.append('Klotz ' + str(iter_piece) + ' ' + richtungen[str(richtung)])\n",
    "                        solve(initial_pieces, tiefe, suchtiefe, weg)\n",
    "                        del weg[-1]\n",
    "                    initial_pieces[iter_piece] = move(initial_pieces[iter_piece], \n",
    "                                                      [-i for i in richtung])\n",
    "        return\n",
    "    print(\"Die Lösung ist %d Schritte lang\" % len(weg))\n",
    "    print(weg)\n",
    "    draw_board(initial_pieces.copy())\n",
    "    with open('Lösung(%d).txt' % num_lösungen, 'w') as f:\n",
    "        for item in weg:\n",
    "            f.write(\"%s\\n\" % item)\n",
    "    num_lösungen += 1"
   ]
  },
  {
   "cell_type": "code",
   "execution_count": 15,
   "metadata": {
    "scrolled": true
   },
   "outputs": [
    {
     "name": "stdout",
     "output_type": "stream",
     "text": [
      "Die Lösung ist 418 Schritte lang\n",
      "['Klotz 6 runter', 'Klotz 6 rechts', 'Klotz 7 links', 'Klotz 6 links', 'Klotz 9 links', 'Klotz 5 runter', 'Klotz 2 runter', 'Klotz 7 rechts', 'Klotz 2 hoch', 'Klotz 4 rechts', 'Klotz 3 rechts', 'Klotz 0 runter', 'Klotz 8 hoch', 'Klotz 0 hoch', 'Klotz 6 links', 'Klotz 0 runter', 'Klotz 3 runter', 'Klotz 0 hoch', 'Klotz 4 links', 'Klotz 0 runter', 'Klotz 2 runter', 'Klotz 0 hoch', 'Klotz 4 links', 'Klotz 2 hoch', 'Klotz 5 hoch', 'Klotz 4 rechts', 'Klotz 0 runter', 'Klotz 9 rechts', 'Klotz 0 hoch', 'Klotz 4 links', 'Klotz 7 hoch', 'Klotz 9 links', 'Klotz 5 runter', 'Klotz 2 runter', 'Klotz 9 hoch', 'Klotz 2 hoch', 'Klotz 7 rechts', 'Klotz 9 hoch', 'Klotz 3 rechts', 'Klotz 6 rechts', 'Klotz 6 hoch', 'Klotz 8 runter', 'Klotz 6 runter', 'Klotz 4 runter', 'Klotz 0 runter', 'Klotz 9 links', 'Klotz 0 hoch', 'Klotz 3 hoch', 'Klotz 0 runter', 'Klotz 6 rechts', 'Klotz 0 hoch', 'Klotz 8 rechts', 'Klotz 9 links', 'Klotz 8 links', 'Klotz 6 links', 'Klotz 3 runter', 'Klotz 7 links', 'Klotz 2 runter', 'Klotz 7 links', 'Klotz 2 hoch', 'Klotz 3 hoch', 'Klotz 2 runter', 'Klotz 6 rechts', 'Klotz 2 hoch', 'Klotz 5 hoch', 'Klotz 6 rechts', 'Klotz 3 runter', 'Klotz 7 rechts', 'Klotz 8 rechts', 'Klotz 7 links', 'Klotz 3 hoch', 'Klotz 8 rechts', 'Klotz 4 runter', 'Klotz 7 runter', 'Klotz 7 links', 'Klotz 3 links', 'Klotz 5 links', 'Klotz 2 runter', 'Klotz 2 runter', 'Klotz 1 rechts', 'Klotz 0 rechts', 'Klotz 9 hoch', 'Klotz 7 hoch', 'Klotz 9 hoch', 'Klotz 7 hoch', 'Klotz 3 links', 'Klotz 0 runter', 'Klotz 0 runter', 'Klotz 1 links', 'Klotz 2 hoch', 'Klotz 2 hoch', 'Klotz 5 rechts', 'Klotz 0 rechts', 'Klotz 3 rechts', 'Klotz 7 runter', 'Klotz 7 runter', 'Klotz 9 runter', 'Klotz 9 runter', 'Klotz 1 links', 'Klotz 0 hoch', 'Klotz 0 hoch', 'Klotz 3 rechts', 'Klotz 7 rechts', 'Klotz 7 hoch', 'Klotz 4 hoch', 'Klotz 8 links', 'Klotz 3 runter', 'Klotz 0 runter', 'Klotz 8 links', 'Klotz 0 hoch', 'Klotz 3 hoch', 'Klotz 6 links', 'Klotz 5 runter', 'Klotz 2 runter', 'Klotz 6 links', 'Klotz 2 hoch', 'Klotz 3 runter', 'Klotz 0 runter', 'Klotz 2 runter', 'Klotz 0 hoch', 'Klotz 7 rechts', 'Klotz 2 hoch', 'Klotz 5 hoch', 'Klotz 9 rechts', 'Klotz 5 runter', 'Klotz 7 rechts', 'Klotz 9 rechts', 'Klotz 4 hoch', 'Klotz 6 hoch', 'Klotz 6 links', 'Klotz 3 links', 'Klotz 5 links', 'Klotz 7 runter', 'Klotz 2 runter', 'Klotz 7 runter', 'Klotz 2 hoch', 'Klotz 9 rechts', 'Klotz 0 runter', 'Klotz 7 hoch', 'Klotz 0 hoch', 'Klotz 4 rechts', 'Klotz 6 hoch', 'Klotz 7 runter', 'Klotz 6 runter', 'Klotz 9 runter', 'Klotz 2 runter', 'Klotz 4 links', 'Klotz 0 runter', 'Klotz 2 hoch', 'Klotz 0 hoch', 'Klotz 5 hoch', 'Klotz 2 runter', 'Klotz 7 links', 'Klotz 2 hoch', 'Klotz 9 runter', 'Klotz 2 runter', 'Klotz 2 runter', 'Klotz 0 rechts', 'Klotz 5 hoch', 'Klotz 5 hoch', 'Klotz 4 rechts', 'Klotz 6 hoch', 'Klotz 7 hoch', 'Klotz 6 runter', 'Klotz 4 links', 'Klotz 5 runter', 'Klotz 9 links', 'Klotz 2 runter', 'Klotz 0 runter', 'Klotz 5 hoch', 'Klotz 0 hoch', 'Klotz 2 hoch', 'Klotz 7 hoch', 'Klotz 2 runter', 'Klotz 0 runter', 'Klotz 9 hoch', 'Klotz 0 hoch', 'Klotz 7 rechts', 'Klotz 4 rechts', 'Klotz 6 hoch', 'Klotz 8 hoch', 'Klotz 9 runter', 'Klotz 8 runter', 'Klotz 6 runter', 'Klotz 4 links', 'Klotz 5 runter', 'Klotz 5 runter', 'Klotz 0 links', 'Klotz 7 hoch', 'Klotz 2 hoch', 'Klotz 7 hoch', 'Klotz 2 hoch', 'Klotz 9 rechts', 'Klotz 2 runter', 'Klotz 5 runter', 'Klotz 0 runter', 'Klotz 2 hoch', 'Klotz 0 hoch', 'Klotz 4 rechts', 'Klotz 2 runter', 'Klotz 6 hoch', 'Klotz 2 hoch', 'Klotz 8 hoch', 'Klotz 9 hoch', 'Klotz 8 runter', 'Klotz 6 runter', 'Klotz 4 links', 'Klotz 0 runter', 'Klotz 7 links', 'Klotz 2 hoch', 'Klotz 9 hoch', 'Klotz 5 rechts', 'Klotz 0 runter', 'Klotz 0 runter', 'Klotz 4 rechts', 'Klotz 6 hoch', 'Klotz 7 runter', 'Klotz 6 runter', 'Klotz 4 links', 'Klotz 7 runter', 'Klotz 2 links', 'Klotz 9 hoch', 'Klotz 5 hoch', 'Klotz 9 hoch', 'Klotz 5 runter', 'Klotz 7 rechts', 'Klotz 0 hoch', 'Klotz 7 hoch', 'Klotz 0 runter', 'Klotz 2 runter', 'Klotz 5 hoch', 'Klotz 2 hoch', 'Klotz 4 rechts', 'Klotz 5 runter', 'Klotz 4 rechts', 'Klotz 3 hoch', 'Klotz 6 hoch', 'Klotz 3 runter', 'Klotz 4 links', 'Klotz 5 hoch', 'Klotz 8 hoch', 'Klotz 5 runter', 'Klotz 7 runter', 'Klotz 8 runter', 'Klotz 6 runter', 'Klotz 9 runter', 'Klotz 4 links', 'Klotz 2 runter', 'Klotz 9 hoch', 'Klotz 9 links', 'Klotz 7 hoch', 'Klotz 5 hoch', 'Klotz 7 hoch', 'Klotz 5 hoch', 'Klotz 0 rechts', 'Klotz 3 rechts', 'Klotz 6 rechts', 'Klotz 6 runter', 'Klotz 4 runter', 'Klotz 1 runter', 'Klotz 9 links', 'Klotz 2 hoch', 'Klotz 3 hoch', 'Klotz 6 rechts', 'Klotz 8 rechts', 'Klotz 9 links', 'Klotz 8 links', 'Klotz 6 links', 'Klotz 3 runter', 'Klotz 2 runter', 'Klotz 7 links', 'Klotz 5 hoch', 'Klotz 0 hoch', 'Klotz 7 links', 'Klotz 0 runter', 'Klotz 2 hoch', 'Klotz 0 hoch', 'Klotz 3 hoch', 'Klotz 0 runter', 'Klotz 5 runter', 'Klotz 6 rechts', 'Klotz 5 hoch', 'Klotz 0 hoch', 'Klotz 6 rechts', 'Klotz 3 runter', 'Klotz 2 runter', 'Klotz 7 rechts', 'Klotz 8 rechts', 'Klotz 7 links', 'Klotz 2 hoch', 'Klotz 3 hoch', 'Klotz 8 rechts', 'Klotz 4 runter', 'Klotz 1 runter', 'Klotz 7 runter', 'Klotz 7 links', 'Klotz 2 links', 'Klotz 3 hoch', 'Klotz 3 hoch', 'Klotz 1 rechts', 'Klotz 7 runter', 'Klotz 7 runter', 'Klotz 9 runter', 'Klotz 9 runter', 'Klotz 2 links', 'Klotz 3 links', 'Klotz 5 links', 'Klotz 0 hoch', 'Klotz 0 hoch', 'Klotz 1 rechts', 'Klotz 3 runter', 'Klotz 3 runter', 'Klotz 2 rechts', 'Klotz 9 hoch', 'Klotz 7 hoch', 'Klotz 9 hoch', 'Klotz 7 hoch', 'Klotz 3 links', 'Klotz 2 runter', 'Klotz 2 runter', 'Klotz 7 rechts', 'Klotz 3 hoch', 'Klotz 7 hoch', 'Klotz 2 hoch', 'Klotz 3 runter', 'Klotz 2 runter', 'Klotz 9 runter', 'Klotz 9 rechts', 'Klotz 3 hoch', 'Klotz 3 hoch', 'Klotz 2 links', 'Klotz 1 links', 'Klotz 0 runter', 'Klotz 0 runter', 'Klotz 5 rechts', 'Klotz 7 rechts', 'Klotz 7 runter', 'Klotz 9 hoch', 'Klotz 7 hoch', 'Klotz 1 hoch', 'Klotz 8 hoch', 'Klotz 4 rechts', 'Klotz 2 runter', 'Klotz 3 runter', 'Klotz 8 links', 'Klotz 3 hoch', 'Klotz 2 hoch', 'Klotz 4 links', 'Klotz 6 links', 'Klotz 0 runter', 'Klotz 5 runter', 'Klotz 6 hoch', 'Klotz 4 rechts', 'Klotz 2 runter', 'Klotz 3 runter', 'Klotz 5 hoch', 'Klotz 0 hoch', 'Klotz 3 hoch', 'Klotz 0 runter', 'Klotz 2 hoch', 'Klotz 0 hoch', 'Klotz 4 rechts', 'Klotz 2 runter', 'Klotz 3 runter', 'Klotz 8 runter', 'Klotz 3 hoch', 'Klotz 2 hoch', 'Klotz 6 links', 'Klotz 8 links', 'Klotz 6 runter', 'Klotz 1 runter', 'Klotz 7 runter', 'Klotz 7 links', 'Klotz 9 rechts', 'Klotz 7 rechts', 'Klotz 3 rechts', 'Klotz 2 hoch', 'Klotz 2 hoch', 'Klotz 1 links', 'Klotz 0 links', 'Klotz 5 runter', 'Klotz 5 runter', 'Klotz 7 rechts', 'Klotz 0 hoch', 'Klotz 7 hoch', 'Klotz 0 runter', 'Klotz 5 hoch', 'Klotz 0 hoch', 'Klotz 4 hoch', 'Klotz 6 rechts', 'Klotz 6 rechts', 'Klotz 8 rechts', 'Klotz 8 rechts', 'Klotz 1 runter', 'Klotz 2 runter', 'Klotz 3 runter', 'Klotz 2 hoch', 'Klotz 9 links', 'Klotz 0 hoch', 'Klotz 2 runter', 'Klotz 0 runter', 'Klotz 7 links', 'Klotz 2 hoch', 'Klotz 5 hoch', 'Klotz 2 runter', 'Klotz 9 links', 'Klotz 3 hoch', 'Klotz 5 runter', 'Klotz 3 runter', 'Klotz 7 links', 'Klotz 0 hoch', 'Klotz 5 hoch', 'Klotz 4 hoch', 'Klotz 6 hoch', 'Klotz 6 links', 'Klotz 8 rechts', 'Klotz 6 rechts', 'Klotz 1 rechts']\n",
      "[['9' '7' '0' '5']\n",
      " ['2' '3' '0' '5']\n",
      " ['2' '3' '4' '4']\n",
      " [' ' '1' '1' '6']\n",
      " [' ' '1' '1' '8']] \n",
      "\n",
      "Die Lösung ist 491 Schritte lang\n",
      "['Klotz 6 runter', 'Klotz 6 rechts', 'Klotz 7 links', 'Klotz 6 links', 'Klotz 9 links', 'Klotz 5 runter', 'Klotz 2 runter', 'Klotz 7 rechts', 'Klotz 2 hoch', 'Klotz 4 rechts', 'Klotz 3 rechts', 'Klotz 0 runter', 'Klotz 8 hoch', 'Klotz 0 hoch', 'Klotz 6 links', 'Klotz 0 runter', 'Klotz 3 runter', 'Klotz 0 hoch', 'Klotz 4 links', 'Klotz 0 runter', 'Klotz 2 runter', 'Klotz 0 hoch', 'Klotz 4 links', 'Klotz 2 hoch', 'Klotz 5 hoch', 'Klotz 4 rechts', 'Klotz 0 runter', 'Klotz 9 rechts', 'Klotz 0 hoch', 'Klotz 4 links', 'Klotz 7 hoch', 'Klotz 9 links', 'Klotz 5 runter', 'Klotz 2 runter', 'Klotz 9 hoch', 'Klotz 2 hoch', 'Klotz 7 rechts', 'Klotz 9 hoch', 'Klotz 3 rechts', 'Klotz 6 rechts', 'Klotz 6 hoch', 'Klotz 8 runter', 'Klotz 6 runter', 'Klotz 4 runter', 'Klotz 0 runter', 'Klotz 9 links', 'Klotz 0 hoch', 'Klotz 3 hoch', 'Klotz 0 runter', 'Klotz 6 rechts', 'Klotz 0 hoch', 'Klotz 8 rechts', 'Klotz 9 links', 'Klotz 8 links', 'Klotz 6 links', 'Klotz 3 runter', 'Klotz 7 links', 'Klotz 2 runter', 'Klotz 7 links', 'Klotz 2 hoch', 'Klotz 3 hoch', 'Klotz 2 runter', 'Klotz 6 rechts', 'Klotz 2 hoch', 'Klotz 5 hoch', 'Klotz 6 rechts', 'Klotz 3 runter', 'Klotz 7 rechts', 'Klotz 8 rechts', 'Klotz 7 links', 'Klotz 3 hoch', 'Klotz 8 rechts', 'Klotz 4 runter', 'Klotz 7 runter', 'Klotz 7 links', 'Klotz 3 links', 'Klotz 5 links', 'Klotz 2 runter', 'Klotz 2 runter', 'Klotz 1 rechts', 'Klotz 0 rechts', 'Klotz 9 hoch', 'Klotz 7 hoch', 'Klotz 9 hoch', 'Klotz 7 hoch', 'Klotz 3 links', 'Klotz 0 runter', 'Klotz 0 runter', 'Klotz 1 links', 'Klotz 2 hoch', 'Klotz 2 hoch', 'Klotz 5 rechts', 'Klotz 0 rechts', 'Klotz 3 rechts', 'Klotz 7 runter', 'Klotz 7 runter', 'Klotz 9 runter', 'Klotz 9 runter', 'Klotz 1 links', 'Klotz 0 hoch', 'Klotz 0 hoch', 'Klotz 3 rechts', 'Klotz 7 rechts', 'Klotz 7 hoch', 'Klotz 4 hoch', 'Klotz 8 links', 'Klotz 3 runter', 'Klotz 0 runter', 'Klotz 8 links', 'Klotz 0 hoch', 'Klotz 3 hoch', 'Klotz 6 links', 'Klotz 5 runter', 'Klotz 2 runter', 'Klotz 6 links', 'Klotz 2 hoch', 'Klotz 3 runter', 'Klotz 0 runter', 'Klotz 2 runter', 'Klotz 0 hoch', 'Klotz 7 rechts', 'Klotz 2 hoch', 'Klotz 5 hoch', 'Klotz 9 rechts', 'Klotz 5 runter', 'Klotz 7 rechts', 'Klotz 9 rechts', 'Klotz 4 hoch', 'Klotz 6 hoch', 'Klotz 6 links', 'Klotz 3 links', 'Klotz 5 links', 'Klotz 7 runter', 'Klotz 2 runter', 'Klotz 7 runter', 'Klotz 2 hoch', 'Klotz 9 rechts', 'Klotz 0 runter', 'Klotz 7 hoch', 'Klotz 0 hoch', 'Klotz 4 rechts', 'Klotz 6 hoch', 'Klotz 7 runter', 'Klotz 6 runter', 'Klotz 9 runter', 'Klotz 2 runter', 'Klotz 4 links', 'Klotz 0 runter', 'Klotz 2 hoch', 'Klotz 0 hoch', 'Klotz 5 hoch', 'Klotz 2 runter', 'Klotz 7 links', 'Klotz 2 hoch', 'Klotz 9 runter', 'Klotz 2 runter', 'Klotz 2 runter', 'Klotz 0 rechts', 'Klotz 5 hoch', 'Klotz 5 hoch', 'Klotz 4 rechts', 'Klotz 6 hoch', 'Klotz 7 hoch', 'Klotz 6 runter', 'Klotz 4 links', 'Klotz 5 runter', 'Klotz 9 links', 'Klotz 2 runter', 'Klotz 0 runter', 'Klotz 5 hoch', 'Klotz 0 hoch', 'Klotz 2 hoch', 'Klotz 7 hoch', 'Klotz 2 runter', 'Klotz 0 runter', 'Klotz 9 hoch', 'Klotz 0 hoch', 'Klotz 7 rechts', 'Klotz 4 rechts', 'Klotz 6 hoch', 'Klotz 8 hoch', 'Klotz 9 runter', 'Klotz 8 runter', 'Klotz 6 runter', 'Klotz 4 links', 'Klotz 5 runter', 'Klotz 5 runter', 'Klotz 0 links', 'Klotz 7 hoch', 'Klotz 2 hoch', 'Klotz 7 hoch', 'Klotz 2 hoch', 'Klotz 9 rechts', 'Klotz 2 runter', 'Klotz 5 runter', 'Klotz 0 runter', 'Klotz 2 hoch', 'Klotz 0 hoch', 'Klotz 4 rechts', 'Klotz 2 runter', 'Klotz 6 hoch', 'Klotz 2 hoch', 'Klotz 8 hoch', 'Klotz 9 hoch', 'Klotz 8 runter', 'Klotz 6 runter', 'Klotz 4 links', 'Klotz 0 runter', 'Klotz 7 links', 'Klotz 2 hoch', 'Klotz 9 hoch', 'Klotz 5 rechts', 'Klotz 0 runter', 'Klotz 0 runter', 'Klotz 4 rechts', 'Klotz 6 hoch', 'Klotz 7 runter', 'Klotz 6 runter', 'Klotz 4 links', 'Klotz 7 runter', 'Klotz 2 links', 'Klotz 9 hoch', 'Klotz 5 hoch', 'Klotz 9 hoch', 'Klotz 5 runter', 'Klotz 7 rechts', 'Klotz 0 hoch', 'Klotz 7 hoch', 'Klotz 0 runter', 'Klotz 2 runter', 'Klotz 5 hoch', 'Klotz 2 hoch', 'Klotz 4 rechts', 'Klotz 5 runter', 'Klotz 4 rechts', 'Klotz 3 hoch', 'Klotz 6 hoch', 'Klotz 3 runter', 'Klotz 4 links', 'Klotz 5 hoch', 'Klotz 8 hoch', 'Klotz 5 runter', 'Klotz 7 runter', 'Klotz 8 runter', 'Klotz 6 runter', 'Klotz 9 runter', 'Klotz 4 links', 'Klotz 2 runter', 'Klotz 9 hoch', 'Klotz 9 links', 'Klotz 7 hoch', 'Klotz 5 hoch', 'Klotz 7 hoch', 'Klotz 5 hoch', 'Klotz 0 rechts', 'Klotz 3 rechts', 'Klotz 6 rechts', 'Klotz 6 runter', 'Klotz 4 runter', 'Klotz 1 runter', 'Klotz 9 links', 'Klotz 2 hoch', 'Klotz 3 hoch', 'Klotz 6 rechts', 'Klotz 8 rechts', 'Klotz 9 links', 'Klotz 8 links', 'Klotz 6 links', 'Klotz 3 runter', 'Klotz 2 runter', 'Klotz 7 links', 'Klotz 5 hoch', 'Klotz 0 hoch', 'Klotz 7 links', 'Klotz 0 runter', 'Klotz 2 hoch', 'Klotz 0 hoch', 'Klotz 3 hoch', 'Klotz 0 runter', 'Klotz 5 runter', 'Klotz 6 rechts', 'Klotz 5 hoch', 'Klotz 0 hoch', 'Klotz 6 rechts', 'Klotz 3 runter', 'Klotz 2 runter', 'Klotz 7 rechts', 'Klotz 8 rechts', 'Klotz 7 links', 'Klotz 2 hoch', 'Klotz 3 hoch', 'Klotz 8 rechts', 'Klotz 4 runter', 'Klotz 1 runter', 'Klotz 7 runter', 'Klotz 7 links', 'Klotz 2 links', 'Klotz 3 hoch', 'Klotz 3 hoch', 'Klotz 1 rechts', 'Klotz 7 runter', 'Klotz 7 runter', 'Klotz 9 runter', 'Klotz 9 runter', 'Klotz 2 links', 'Klotz 3 links', 'Klotz 5 links', 'Klotz 0 hoch', 'Klotz 0 hoch', 'Klotz 1 rechts', 'Klotz 3 runter', 'Klotz 3 runter', 'Klotz 2 rechts', 'Klotz 9 hoch', 'Klotz 7 hoch', 'Klotz 9 hoch', 'Klotz 7 hoch', 'Klotz 3 links', 'Klotz 2 runter', 'Klotz 2 runter', 'Klotz 7 rechts', 'Klotz 3 hoch', 'Klotz 7 hoch', 'Klotz 2 hoch', 'Klotz 3 runter', 'Klotz 2 runter', 'Klotz 9 runter', 'Klotz 9 rechts', 'Klotz 3 hoch', 'Klotz 3 hoch', 'Klotz 2 links', 'Klotz 1 links', 'Klotz 0 runter', 'Klotz 0 runter', 'Klotz 5 rechts', 'Klotz 7 rechts', 'Klotz 7 runter', 'Klotz 9 hoch', 'Klotz 7 hoch', 'Klotz 1 hoch', 'Klotz 8 hoch', 'Klotz 4 rechts', 'Klotz 2 runter', 'Klotz 3 runter', 'Klotz 8 links', 'Klotz 3 hoch', 'Klotz 2 hoch', 'Klotz 4 links', 'Klotz 6 links', 'Klotz 0 runter', 'Klotz 5 runter', 'Klotz 6 hoch', 'Klotz 4 rechts', 'Klotz 2 runter', 'Klotz 3 runter', 'Klotz 5 hoch', 'Klotz 0 hoch', 'Klotz 3 hoch', 'Klotz 0 runter', 'Klotz 2 hoch', 'Klotz 0 hoch', 'Klotz 4 rechts', 'Klotz 2 runter', 'Klotz 3 runter', 'Klotz 8 runter', 'Klotz 3 hoch', 'Klotz 2 hoch', 'Klotz 6 links', 'Klotz 8 links', 'Klotz 6 runter', 'Klotz 1 runter', 'Klotz 7 runter', 'Klotz 7 links', 'Klotz 9 rechts', 'Klotz 7 rechts', 'Klotz 3 rechts', 'Klotz 2 hoch', 'Klotz 2 hoch', 'Klotz 1 links', 'Klotz 0 links', 'Klotz 5 runter', 'Klotz 5 runter', 'Klotz 7 rechts', 'Klotz 0 hoch', 'Klotz 7 hoch', 'Klotz 0 runter', 'Klotz 5 hoch', 'Klotz 9 runter', 'Klotz 5 runter', 'Klotz 9 rechts', 'Klotz 0 hoch', 'Klotz 0 hoch', 'Klotz 5 links', 'Klotz 9 runter', 'Klotz 7 runter', 'Klotz 9 runter', 'Klotz 7 runter', 'Klotz 0 rechts', 'Klotz 5 hoch', 'Klotz 5 hoch', 'Klotz 1 rechts', 'Klotz 2 runter', 'Klotz 2 runter', 'Klotz 3 links', 'Klotz 5 links', 'Klotz 0 links', 'Klotz 7 hoch', 'Klotz 7 hoch', 'Klotz 9 hoch', 'Klotz 9 hoch', 'Klotz 1 rechts', 'Klotz 5 runter', 'Klotz 6 hoch', 'Klotz 4 links', 'Klotz 5 hoch', 'Klotz 4 rechts', 'Klotz 6 hoch', 'Klotz 8 rechts', 'Klotz 2 runter', 'Klotz 3 runter', 'Klotz 8 hoch', 'Klotz 3 hoch', 'Klotz 2 hoch', 'Klotz 4 links', 'Klotz 2 runter', 'Klotz 6 links', 'Klotz 5 runter', 'Klotz 4 rechts', 'Klotz 8 runter', 'Klotz 5 hoch', 'Klotz 1 links', 'Klotz 9 runter', 'Klotz 7 runter', 'Klotz 9 runter', 'Klotz 7 runter', 'Klotz 0 rechts', 'Klotz 5 rechts', 'Klotz 3 rechts', 'Klotz 6 hoch', 'Klotz 2 hoch', 'Klotz 6 hoch', 'Klotz 2 hoch', 'Klotz 8 links', 'Klotz 2 runter', 'Klotz 4 links', 'Klotz 2 hoch', 'Klotz 8 hoch', 'Klotz 4 links', 'Klotz 9 runter', 'Klotz 4 rechts', 'Klotz 7 runter', 'Klotz 0 runter', 'Klotz 4 links', 'Klotz 0 hoch', 'Klotz 9 links', 'Klotz 0 runter', 'Klotz 7 runter', 'Klotz 0 hoch', 'Klotz 1 rechts', 'Klotz 3 runter', 'Klotz 3 runter', 'Klotz 6 rechts', 'Klotz 2 hoch', 'Klotz 3 hoch', 'Klotz 8 hoch', 'Klotz 4 hoch', 'Klotz 9 links', 'Klotz 7 links', 'Klotz 9 links', 'Klotz 7 links', 'Klotz 1 runter', 'Klotz 0 runter', 'Klotz 5 runter', 'Klotz 0 hoch', 'Klotz 6 rechts', 'Klotz 0 runter', 'Klotz 3 hoch', 'Klotz 0 hoch', 'Klotz 8 rechts', 'Klotz 0 runter', 'Klotz 2 runter', 'Klotz 6 rechts', 'Klotz 2 hoch', 'Klotz 5 hoch', 'Klotz 2 runter', 'Klotz 8 rechts', 'Klotz 2 hoch', 'Klotz 4 hoch', 'Klotz 7 hoch', 'Klotz 7 links', 'Klotz 1 links']\n",
      "[['2' '3' '5' '6']\n",
      " ['2' '3' '5' '0']\n",
      " ['4' '4' '8' '0']\n",
      " ['7' '1' '1' ' ']\n",
      " ['9' '1' '1' ' ']] \n",
      "\n"
     ]
    },
    {
     "name": "stdout",
     "output_type": "stream",
     "text": [
      "Die Lösung ist 432 Schritte lang\n",
      "['Klotz 6 runter', 'Klotz 6 rechts', 'Klotz 7 links', 'Klotz 6 links', 'Klotz 9 links', 'Klotz 5 runter', 'Klotz 2 runter', 'Klotz 7 rechts', 'Klotz 2 hoch', 'Klotz 4 rechts', 'Klotz 3 rechts', 'Klotz 0 runter', 'Klotz 8 hoch', 'Klotz 0 hoch', 'Klotz 6 links', 'Klotz 0 runter', 'Klotz 3 runter', 'Klotz 0 hoch', 'Klotz 4 links', 'Klotz 0 runter', 'Klotz 2 runter', 'Klotz 0 hoch', 'Klotz 4 links', 'Klotz 2 hoch', 'Klotz 5 hoch', 'Klotz 4 rechts', 'Klotz 0 runter', 'Klotz 9 rechts', 'Klotz 0 hoch', 'Klotz 4 links', 'Klotz 7 hoch', 'Klotz 9 links', 'Klotz 5 runter', 'Klotz 2 runter', 'Klotz 9 hoch', 'Klotz 2 hoch', 'Klotz 7 rechts', 'Klotz 9 hoch', 'Klotz 3 rechts', 'Klotz 6 rechts', 'Klotz 6 hoch', 'Klotz 8 runter', 'Klotz 6 runter', 'Klotz 4 runter', 'Klotz 0 runter', 'Klotz 9 links', 'Klotz 0 hoch', 'Klotz 3 hoch', 'Klotz 0 runter', 'Klotz 6 rechts', 'Klotz 0 hoch', 'Klotz 8 rechts', 'Klotz 9 links', 'Klotz 8 links', 'Klotz 6 links', 'Klotz 3 runter', 'Klotz 7 links', 'Klotz 2 runter', 'Klotz 7 links', 'Klotz 2 hoch', 'Klotz 3 hoch', 'Klotz 2 runter', 'Klotz 6 rechts', 'Klotz 2 hoch', 'Klotz 5 hoch', 'Klotz 6 rechts', 'Klotz 3 runter', 'Klotz 7 rechts', 'Klotz 8 rechts', 'Klotz 7 links', 'Klotz 3 hoch', 'Klotz 8 rechts', 'Klotz 4 runter', 'Klotz 7 runter', 'Klotz 7 links', 'Klotz 3 links', 'Klotz 5 links', 'Klotz 2 runter', 'Klotz 2 runter', 'Klotz 1 rechts', 'Klotz 0 rechts', 'Klotz 9 hoch', 'Klotz 7 hoch', 'Klotz 9 hoch', 'Klotz 7 hoch', 'Klotz 3 links', 'Klotz 0 runter', 'Klotz 0 runter', 'Klotz 1 links', 'Klotz 2 hoch', 'Klotz 2 hoch', 'Klotz 5 rechts', 'Klotz 0 rechts', 'Klotz 3 rechts', 'Klotz 7 runter', 'Klotz 7 runter', 'Klotz 9 runter', 'Klotz 9 runter', 'Klotz 1 links', 'Klotz 0 hoch', 'Klotz 0 hoch', 'Klotz 3 rechts', 'Klotz 7 rechts', 'Klotz 7 hoch', 'Klotz 4 hoch', 'Klotz 8 links', 'Klotz 3 runter', 'Klotz 0 runter', 'Klotz 8 links', 'Klotz 0 hoch', 'Klotz 3 hoch', 'Klotz 6 links', 'Klotz 5 runter', 'Klotz 2 runter', 'Klotz 6 links', 'Klotz 2 hoch', 'Klotz 3 runter', 'Klotz 0 runter', 'Klotz 2 runter', 'Klotz 0 hoch', 'Klotz 7 rechts', 'Klotz 2 hoch', 'Klotz 5 hoch', 'Klotz 9 rechts', 'Klotz 5 runter', 'Klotz 7 rechts', 'Klotz 9 rechts', 'Klotz 4 hoch', 'Klotz 6 hoch', 'Klotz 6 links', 'Klotz 3 links', 'Klotz 5 links', 'Klotz 7 runter', 'Klotz 2 runter', 'Klotz 7 runter', 'Klotz 2 hoch', 'Klotz 9 rechts', 'Klotz 0 runter', 'Klotz 7 hoch', 'Klotz 0 hoch', 'Klotz 4 rechts', 'Klotz 6 hoch', 'Klotz 7 runter', 'Klotz 6 runter', 'Klotz 9 runter', 'Klotz 2 runter', 'Klotz 4 links', 'Klotz 0 runter', 'Klotz 2 hoch', 'Klotz 0 hoch', 'Klotz 5 hoch', 'Klotz 2 runter', 'Klotz 7 links', 'Klotz 2 hoch', 'Klotz 9 runter', 'Klotz 2 runter', 'Klotz 2 runter', 'Klotz 0 rechts', 'Klotz 5 hoch', 'Klotz 5 hoch', 'Klotz 4 rechts', 'Klotz 6 hoch', 'Klotz 7 hoch', 'Klotz 6 runter', 'Klotz 4 links', 'Klotz 5 runter', 'Klotz 9 links', 'Klotz 2 runter', 'Klotz 0 runter', 'Klotz 5 hoch', 'Klotz 0 hoch', 'Klotz 2 hoch', 'Klotz 7 hoch', 'Klotz 2 runter', 'Klotz 0 runter', 'Klotz 9 hoch', 'Klotz 0 hoch', 'Klotz 7 rechts', 'Klotz 4 rechts', 'Klotz 6 hoch', 'Klotz 8 hoch', 'Klotz 9 runter', 'Klotz 8 runter', 'Klotz 6 runter', 'Klotz 4 links', 'Klotz 5 runter', 'Klotz 5 runter', 'Klotz 0 links', 'Klotz 7 hoch', 'Klotz 2 hoch', 'Klotz 7 hoch', 'Klotz 2 hoch', 'Klotz 9 rechts', 'Klotz 2 runter', 'Klotz 5 runter', 'Klotz 0 runter', 'Klotz 2 hoch', 'Klotz 0 hoch', 'Klotz 4 rechts', 'Klotz 2 runter', 'Klotz 6 hoch', 'Klotz 2 hoch', 'Klotz 8 hoch', 'Klotz 9 hoch', 'Klotz 8 runter', 'Klotz 6 runter', 'Klotz 4 links', 'Klotz 0 runter', 'Klotz 7 links', 'Klotz 2 hoch', 'Klotz 9 hoch', 'Klotz 5 rechts', 'Klotz 0 runter', 'Klotz 0 runter', 'Klotz 4 rechts', 'Klotz 6 hoch', 'Klotz 7 runter', 'Klotz 6 runter', 'Klotz 4 links', 'Klotz 7 runter', 'Klotz 2 links', 'Klotz 9 hoch', 'Klotz 5 hoch', 'Klotz 9 hoch', 'Klotz 5 runter', 'Klotz 7 rechts', 'Klotz 0 hoch', 'Klotz 7 hoch', 'Klotz 0 runter', 'Klotz 2 runter', 'Klotz 5 hoch', 'Klotz 2 hoch', 'Klotz 4 rechts', 'Klotz 5 runter', 'Klotz 4 rechts', 'Klotz 3 hoch', 'Klotz 6 hoch', 'Klotz 3 runter', 'Klotz 4 links', 'Klotz 5 hoch', 'Klotz 8 hoch', 'Klotz 5 runter', 'Klotz 7 runter', 'Klotz 8 runter', 'Klotz 6 runter', 'Klotz 9 runter', 'Klotz 4 links', 'Klotz 2 runter', 'Klotz 9 hoch', 'Klotz 9 links', 'Klotz 7 hoch', 'Klotz 5 hoch', 'Klotz 7 hoch', 'Klotz 5 hoch', 'Klotz 0 rechts', 'Klotz 3 rechts', 'Klotz 6 rechts', 'Klotz 6 runter', 'Klotz 4 runter', 'Klotz 1 runter', 'Klotz 9 links', 'Klotz 2 hoch', 'Klotz 3 hoch', 'Klotz 6 rechts', 'Klotz 8 rechts', 'Klotz 9 links', 'Klotz 8 links', 'Klotz 6 links', 'Klotz 3 runter', 'Klotz 2 runter', 'Klotz 7 links', 'Klotz 5 hoch', 'Klotz 0 hoch', 'Klotz 7 links', 'Klotz 0 runter', 'Klotz 2 hoch', 'Klotz 0 hoch', 'Klotz 3 hoch', 'Klotz 0 runter', 'Klotz 5 runter', 'Klotz 6 rechts', 'Klotz 5 hoch', 'Klotz 0 hoch', 'Klotz 6 rechts', 'Klotz 3 runter', 'Klotz 2 runter', 'Klotz 7 rechts', 'Klotz 8 rechts', 'Klotz 7 links', 'Klotz 2 hoch', 'Klotz 3 hoch', 'Klotz 8 rechts', 'Klotz 4 runter', 'Klotz 1 runter', 'Klotz 7 runter', 'Klotz 7 links', 'Klotz 2 links', 'Klotz 3 hoch', 'Klotz 3 hoch', 'Klotz 1 rechts', 'Klotz 7 runter', 'Klotz 7 runter', 'Klotz 9 runter', 'Klotz 9 runter', 'Klotz 2 links', 'Klotz 3 links', 'Klotz 5 links', 'Klotz 0 hoch', 'Klotz 0 hoch', 'Klotz 1 rechts', 'Klotz 3 runter', 'Klotz 3 runter', 'Klotz 2 rechts', 'Klotz 9 hoch', 'Klotz 7 hoch', 'Klotz 9 hoch', 'Klotz 7 hoch', 'Klotz 3 links', 'Klotz 2 runter', 'Klotz 2 runter', 'Klotz 7 rechts', 'Klotz 3 hoch', 'Klotz 7 hoch', 'Klotz 2 hoch', 'Klotz 3 runter', 'Klotz 2 runter', 'Klotz 9 runter', 'Klotz 9 rechts', 'Klotz 3 hoch', 'Klotz 3 hoch', 'Klotz 2 links', 'Klotz 1 links', 'Klotz 0 runter', 'Klotz 0 runter', 'Klotz 5 rechts', 'Klotz 7 rechts', 'Klotz 7 runter', 'Klotz 9 hoch', 'Klotz 7 hoch', 'Klotz 1 hoch', 'Klotz 8 hoch', 'Klotz 4 rechts', 'Klotz 2 runter', 'Klotz 3 runter', 'Klotz 8 links', 'Klotz 3 hoch', 'Klotz 2 hoch', 'Klotz 4 links', 'Klotz 6 links', 'Klotz 0 runter', 'Klotz 5 runter', 'Klotz 6 hoch', 'Klotz 4 rechts', 'Klotz 2 runter', 'Klotz 3 runter', 'Klotz 5 hoch', 'Klotz 0 hoch', 'Klotz 3 hoch', 'Klotz 0 runter', 'Klotz 2 hoch', 'Klotz 0 hoch', 'Klotz 4 rechts', 'Klotz 2 runter', 'Klotz 3 runter', 'Klotz 8 runter', 'Klotz 3 hoch', 'Klotz 2 hoch', 'Klotz 6 links', 'Klotz 8 links', 'Klotz 6 runter', 'Klotz 1 runter', 'Klotz 7 runter', 'Klotz 7 links', 'Klotz 9 rechts', 'Klotz 7 rechts', 'Klotz 3 rechts', 'Klotz 2 hoch', 'Klotz 2 hoch', 'Klotz 1 links', 'Klotz 0 links', 'Klotz 5 runter', 'Klotz 5 runter', 'Klotz 7 rechts', 'Klotz 0 hoch', 'Klotz 7 hoch', 'Klotz 0 runter', 'Klotz 5 hoch', 'Klotz 9 runter', 'Klotz 5 runter', 'Klotz 9 rechts', 'Klotz 0 hoch', 'Klotz 0 hoch', 'Klotz 5 links', 'Klotz 9 runter', 'Klotz 7 runter', 'Klotz 9 runter', 'Klotz 7 runter', 'Klotz 0 rechts', 'Klotz 5 hoch', 'Klotz 5 hoch', 'Klotz 7 links', 'Klotz 0 runter', 'Klotz 7 runter', 'Klotz 0 hoch', 'Klotz 5 runter', 'Klotz 9 hoch', 'Klotz 5 hoch', 'Klotz 7 hoch', 'Klotz 4 hoch', 'Klotz 6 rechts', 'Klotz 6 rechts', 'Klotz 8 rechts', 'Klotz 8 rechts', 'Klotz 1 runter', 'Klotz 2 runter', 'Klotz 7 links', 'Klotz 2 hoch', 'Klotz 5 runter', 'Klotz 7 links', 'Klotz 3 runter', 'Klotz 5 hoch', 'Klotz 3 hoch', 'Klotz 9 links', 'Klotz 0 runter', 'Klotz 9 links', 'Klotz 0 hoch', 'Klotz 4 hoch', 'Klotz 6 hoch', 'Klotz 6 links', 'Klotz 8 rechts', 'Klotz 6 rechts', 'Klotz 1 rechts']\n",
      "[['2' '3' '5' '0']\n",
      " ['2' '3' '5' '0']\n",
      " ['7' '9' '4' '4']\n",
      " [' ' '1' '1' '6']\n",
      " [' ' '1' '1' '8']] \n",
      "\n",
      "Die Lösung ist 368 Schritte lang\n",
      "['Klotz 6 runter', 'Klotz 6 rechts', 'Klotz 7 links', 'Klotz 6 links', 'Klotz 9 links', 'Klotz 5 runter', 'Klotz 2 runter', 'Klotz 7 rechts', 'Klotz 2 hoch', 'Klotz 4 rechts', 'Klotz 3 rechts', 'Klotz 0 runter', 'Klotz 8 hoch', 'Klotz 0 hoch', 'Klotz 6 links', 'Klotz 0 runter', 'Klotz 3 runter', 'Klotz 0 hoch', 'Klotz 4 links', 'Klotz 0 runter', 'Klotz 2 runter', 'Klotz 0 hoch', 'Klotz 4 links', 'Klotz 2 hoch', 'Klotz 5 hoch', 'Klotz 4 rechts', 'Klotz 0 runter', 'Klotz 9 rechts', 'Klotz 0 hoch', 'Klotz 4 links', 'Klotz 7 hoch', 'Klotz 9 links', 'Klotz 5 runter', 'Klotz 2 runter', 'Klotz 9 hoch', 'Klotz 2 hoch', 'Klotz 7 rechts', 'Klotz 9 hoch', 'Klotz 3 rechts', 'Klotz 6 rechts', 'Klotz 6 hoch', 'Klotz 8 runter', 'Klotz 6 runter', 'Klotz 4 runter', 'Klotz 0 runter', 'Klotz 9 links', 'Klotz 0 hoch', 'Klotz 3 hoch', 'Klotz 0 runter', 'Klotz 6 rechts', 'Klotz 0 hoch', 'Klotz 8 rechts', 'Klotz 9 links', 'Klotz 8 links', 'Klotz 6 links', 'Klotz 3 runter', 'Klotz 7 links', 'Klotz 2 runter', 'Klotz 7 links', 'Klotz 2 hoch', 'Klotz 3 hoch', 'Klotz 2 runter', 'Klotz 6 rechts', 'Klotz 2 hoch', 'Klotz 5 hoch', 'Klotz 6 rechts', 'Klotz 3 runter', 'Klotz 7 rechts', 'Klotz 8 rechts', 'Klotz 7 links', 'Klotz 3 hoch', 'Klotz 8 rechts', 'Klotz 4 runter', 'Klotz 7 runter', 'Klotz 7 links', 'Klotz 3 links', 'Klotz 5 links', 'Klotz 2 runter', 'Klotz 2 runter', 'Klotz 1 rechts', 'Klotz 0 rechts', 'Klotz 9 hoch', 'Klotz 7 hoch', 'Klotz 9 hoch', 'Klotz 7 hoch', 'Klotz 3 links', 'Klotz 0 runter', 'Klotz 0 runter', 'Klotz 1 links', 'Klotz 2 hoch', 'Klotz 2 hoch', 'Klotz 5 rechts', 'Klotz 0 rechts', 'Klotz 3 rechts', 'Klotz 7 runter', 'Klotz 7 runter', 'Klotz 9 runter', 'Klotz 9 runter', 'Klotz 1 links', 'Klotz 0 hoch', 'Klotz 0 hoch', 'Klotz 3 rechts', 'Klotz 7 rechts', 'Klotz 7 hoch', 'Klotz 4 hoch', 'Klotz 8 links', 'Klotz 3 runter', 'Klotz 0 runter', 'Klotz 8 links', 'Klotz 0 hoch', 'Klotz 3 hoch', 'Klotz 6 links', 'Klotz 5 runter', 'Klotz 2 runter', 'Klotz 6 links', 'Klotz 2 hoch', 'Klotz 3 runter', 'Klotz 0 runter', 'Klotz 2 runter', 'Klotz 0 hoch', 'Klotz 7 rechts', 'Klotz 2 hoch', 'Klotz 5 hoch', 'Klotz 9 rechts', 'Klotz 5 runter', 'Klotz 7 rechts', 'Klotz 9 rechts', 'Klotz 4 hoch', 'Klotz 6 hoch', 'Klotz 6 links', 'Klotz 3 links', 'Klotz 5 links', 'Klotz 7 runter', 'Klotz 2 runter', 'Klotz 7 runter', 'Klotz 2 hoch', 'Klotz 9 rechts', 'Klotz 0 runter', 'Klotz 7 hoch', 'Klotz 0 hoch', 'Klotz 4 rechts', 'Klotz 6 hoch', 'Klotz 7 runter', 'Klotz 6 runter', 'Klotz 9 runter', 'Klotz 2 runter', 'Klotz 4 links', 'Klotz 0 runter', 'Klotz 2 hoch', 'Klotz 0 hoch', 'Klotz 5 hoch', 'Klotz 2 runter', 'Klotz 7 links', 'Klotz 2 hoch', 'Klotz 9 runter', 'Klotz 2 runter', 'Klotz 2 runter', 'Klotz 0 rechts', 'Klotz 5 hoch', 'Klotz 5 hoch', 'Klotz 4 rechts', 'Klotz 6 hoch', 'Klotz 7 hoch', 'Klotz 6 runter', 'Klotz 4 links', 'Klotz 5 runter', 'Klotz 9 links', 'Klotz 2 runter', 'Klotz 0 runter', 'Klotz 5 hoch', 'Klotz 0 hoch', 'Klotz 2 hoch', 'Klotz 7 hoch', 'Klotz 2 runter', 'Klotz 0 runter', 'Klotz 9 hoch', 'Klotz 0 hoch', 'Klotz 7 rechts', 'Klotz 4 rechts', 'Klotz 6 hoch', 'Klotz 8 hoch', 'Klotz 9 runter', 'Klotz 8 runter', 'Klotz 6 runter', 'Klotz 4 links', 'Klotz 5 runter', 'Klotz 5 runter', 'Klotz 0 links', 'Klotz 7 hoch', 'Klotz 2 hoch', 'Klotz 7 hoch', 'Klotz 2 hoch', 'Klotz 9 rechts', 'Klotz 2 runter', 'Klotz 5 runter', 'Klotz 0 runter', 'Klotz 2 hoch', 'Klotz 0 hoch', 'Klotz 4 rechts', 'Klotz 2 runter', 'Klotz 6 hoch', 'Klotz 2 hoch', 'Klotz 8 hoch', 'Klotz 9 hoch', 'Klotz 8 runter', 'Klotz 6 runter', 'Klotz 4 links', 'Klotz 0 runter', 'Klotz 7 links', 'Klotz 2 hoch', 'Klotz 9 hoch', 'Klotz 5 rechts', 'Klotz 0 runter', 'Klotz 0 runter', 'Klotz 4 rechts', 'Klotz 6 hoch', 'Klotz 7 runter', 'Klotz 6 runter', 'Klotz 4 links', 'Klotz 7 runter', 'Klotz 2 links', 'Klotz 9 hoch', 'Klotz 5 hoch', 'Klotz 9 hoch', 'Klotz 5 runter', 'Klotz 7 rechts', 'Klotz 0 hoch', 'Klotz 7 hoch', 'Klotz 0 runter', 'Klotz 2 runter', 'Klotz 5 hoch', 'Klotz 2 hoch', 'Klotz 4 rechts', 'Klotz 5 runter', 'Klotz 4 rechts', 'Klotz 3 hoch', 'Klotz 6 hoch', 'Klotz 3 runter', 'Klotz 4 links', 'Klotz 5 hoch', 'Klotz 8 hoch', 'Klotz 5 runter', 'Klotz 7 runter', 'Klotz 8 runter', 'Klotz 6 runter', 'Klotz 9 runter', 'Klotz 4 links', 'Klotz 2 runter', 'Klotz 9 hoch', 'Klotz 9 links', 'Klotz 7 hoch', 'Klotz 5 hoch', 'Klotz 7 hoch', 'Klotz 5 hoch', 'Klotz 0 rechts', 'Klotz 3 rechts', 'Klotz 6 rechts', 'Klotz 6 runter', 'Klotz 4 runter', 'Klotz 1 runter', 'Klotz 9 links', 'Klotz 2 hoch', 'Klotz 3 hoch', 'Klotz 6 rechts', 'Klotz 8 rechts', 'Klotz 9 links', 'Klotz 8 links', 'Klotz 6 links', 'Klotz 3 runter', 'Klotz 2 runter', 'Klotz 7 links', 'Klotz 5 hoch', 'Klotz 0 hoch', 'Klotz 7 links', 'Klotz 0 runter', 'Klotz 2 hoch', 'Klotz 0 hoch', 'Klotz 3 hoch', 'Klotz 0 runter', 'Klotz 5 runter', 'Klotz 6 rechts', 'Klotz 5 hoch', 'Klotz 0 hoch', 'Klotz 6 rechts', 'Klotz 3 runter', 'Klotz 2 runter', 'Klotz 7 rechts', 'Klotz 8 rechts', 'Klotz 7 links', 'Klotz 2 hoch', 'Klotz 3 hoch', 'Klotz 8 rechts', 'Klotz 4 runter', 'Klotz 1 runter', 'Klotz 7 runter', 'Klotz 7 links', 'Klotz 2 links', 'Klotz 3 hoch', 'Klotz 3 hoch', 'Klotz 1 rechts', 'Klotz 7 runter', 'Klotz 7 runter', 'Klotz 9 runter', 'Klotz 9 runter', 'Klotz 2 links', 'Klotz 3 links', 'Klotz 5 links', 'Klotz 0 hoch', 'Klotz 0 hoch', 'Klotz 1 rechts', 'Klotz 3 runter', 'Klotz 3 runter', 'Klotz 2 rechts', 'Klotz 9 hoch', 'Klotz 7 hoch', 'Klotz 9 hoch', 'Klotz 7 hoch', 'Klotz 3 links', 'Klotz 2 runter', 'Klotz 2 runter', 'Klotz 7 rechts', 'Klotz 3 hoch', 'Klotz 7 hoch', 'Klotz 2 hoch', 'Klotz 3 runter', 'Klotz 2 runter', 'Klotz 9 runter', 'Klotz 9 rechts', 'Klotz 3 hoch', 'Klotz 3 hoch', 'Klotz 2 links', 'Klotz 9 runter', 'Klotz 7 runter', 'Klotz 9 runter', 'Klotz 7 runter', 'Klotz 3 rechts', 'Klotz 2 hoch', 'Klotz 2 hoch', 'Klotz 7 links', 'Klotz 3 runter', 'Klotz 7 runter', 'Klotz 2 runter', 'Klotz 3 hoch', 'Klotz 2 hoch', 'Klotz 9 hoch', 'Klotz 7 hoch', 'Klotz 4 hoch', 'Klotz 8 links', 'Klotz 6 links', 'Klotz 8 links', 'Klotz 6 links', 'Klotz 1 runter', 'Klotz 0 runter', 'Klotz 9 rechts', 'Klotz 0 hoch', 'Klotz 3 runter', 'Klotz 9 rechts', 'Klotz 3 hoch', 'Klotz 5 runter', 'Klotz 7 rechts', 'Klotz 2 runter', 'Klotz 5 hoch', 'Klotz 2 hoch', 'Klotz 7 rechts', 'Klotz 4 hoch', 'Klotz 6 hoch', 'Klotz 6 links', 'Klotz 1 links']\n",
      "[['2' '3' '5' '0']\n",
      " ['2' '3' '5' '0']\n",
      " ['4' '4' '7' '9']\n",
      " ['6' '1' '1' ' ']\n",
      " ['8' '1' '1' ' ']] \n",
      "\n"
     ]
    },
    {
     "name": "stdout",
     "output_type": "stream",
     "text": [
      "Die Lösung ist 350 Schritte lang\n",
      "['Klotz 6 runter', 'Klotz 6 rechts', 'Klotz 7 links', 'Klotz 6 links', 'Klotz 9 links', 'Klotz 5 runter', 'Klotz 2 runter', 'Klotz 7 rechts', 'Klotz 2 hoch', 'Klotz 4 rechts', 'Klotz 3 rechts', 'Klotz 0 runter', 'Klotz 8 hoch', 'Klotz 0 hoch', 'Klotz 6 links', 'Klotz 0 runter', 'Klotz 3 runter', 'Klotz 0 hoch', 'Klotz 4 links', 'Klotz 0 runter', 'Klotz 2 runter', 'Klotz 0 hoch', 'Klotz 4 links', 'Klotz 2 hoch', 'Klotz 5 hoch', 'Klotz 4 rechts', 'Klotz 0 runter', 'Klotz 9 rechts', 'Klotz 0 hoch', 'Klotz 4 links', 'Klotz 7 hoch', 'Klotz 9 links', 'Klotz 5 runter', 'Klotz 2 runter', 'Klotz 9 hoch', 'Klotz 2 hoch', 'Klotz 7 rechts', 'Klotz 9 hoch', 'Klotz 3 rechts', 'Klotz 6 rechts', 'Klotz 6 hoch', 'Klotz 8 runter', 'Klotz 6 runter', 'Klotz 4 runter', 'Klotz 0 runter', 'Klotz 9 links', 'Klotz 0 hoch', 'Klotz 3 hoch', 'Klotz 0 runter', 'Klotz 6 rechts', 'Klotz 0 hoch', 'Klotz 8 rechts', 'Klotz 9 links', 'Klotz 8 links', 'Klotz 6 links', 'Klotz 3 runter', 'Klotz 7 links', 'Klotz 2 runter', 'Klotz 7 links', 'Klotz 2 hoch', 'Klotz 3 hoch', 'Klotz 2 runter', 'Klotz 6 rechts', 'Klotz 2 hoch', 'Klotz 5 hoch', 'Klotz 6 rechts', 'Klotz 3 runter', 'Klotz 7 rechts', 'Klotz 8 rechts', 'Klotz 7 links', 'Klotz 3 hoch', 'Klotz 8 rechts', 'Klotz 4 runter', 'Klotz 7 runter', 'Klotz 7 links', 'Klotz 3 links', 'Klotz 5 links', 'Klotz 2 runter', 'Klotz 2 runter', 'Klotz 1 rechts', 'Klotz 0 rechts', 'Klotz 9 hoch', 'Klotz 7 hoch', 'Klotz 9 hoch', 'Klotz 7 hoch', 'Klotz 3 links', 'Klotz 0 runter', 'Klotz 0 runter', 'Klotz 1 links', 'Klotz 2 hoch', 'Klotz 2 hoch', 'Klotz 5 rechts', 'Klotz 0 rechts', 'Klotz 3 rechts', 'Klotz 7 runter', 'Klotz 7 runter', 'Klotz 9 runter', 'Klotz 9 runter', 'Klotz 1 links', 'Klotz 0 hoch', 'Klotz 0 hoch', 'Klotz 3 rechts', 'Klotz 7 rechts', 'Klotz 7 hoch', 'Klotz 4 hoch', 'Klotz 8 links', 'Klotz 3 runter', 'Klotz 0 runter', 'Klotz 8 links', 'Klotz 0 hoch', 'Klotz 3 hoch', 'Klotz 6 links', 'Klotz 5 runter', 'Klotz 2 runter', 'Klotz 6 links', 'Klotz 2 hoch', 'Klotz 3 runter', 'Klotz 0 runter', 'Klotz 2 runter', 'Klotz 0 hoch', 'Klotz 7 rechts', 'Klotz 2 hoch', 'Klotz 5 hoch', 'Klotz 9 rechts', 'Klotz 5 runter', 'Klotz 7 rechts', 'Klotz 9 rechts', 'Klotz 4 hoch', 'Klotz 6 hoch', 'Klotz 6 links', 'Klotz 3 links', 'Klotz 5 links', 'Klotz 7 runter', 'Klotz 2 runter', 'Klotz 7 runter', 'Klotz 2 hoch', 'Klotz 9 rechts', 'Klotz 0 runter', 'Klotz 7 hoch', 'Klotz 0 hoch', 'Klotz 4 rechts', 'Klotz 6 hoch', 'Klotz 7 runter', 'Klotz 6 runter', 'Klotz 9 runter', 'Klotz 2 runter', 'Klotz 4 links', 'Klotz 0 runter', 'Klotz 2 hoch', 'Klotz 0 hoch', 'Klotz 5 hoch', 'Klotz 2 runter', 'Klotz 7 links', 'Klotz 2 hoch', 'Klotz 9 runter', 'Klotz 2 runter', 'Klotz 2 runter', 'Klotz 0 rechts', 'Klotz 5 hoch', 'Klotz 5 hoch', 'Klotz 4 rechts', 'Klotz 6 hoch', 'Klotz 7 hoch', 'Klotz 6 runter', 'Klotz 4 links', 'Klotz 5 runter', 'Klotz 9 links', 'Klotz 2 runter', 'Klotz 0 runter', 'Klotz 5 hoch', 'Klotz 0 hoch', 'Klotz 2 hoch', 'Klotz 7 hoch', 'Klotz 2 runter', 'Klotz 0 runter', 'Klotz 9 hoch', 'Klotz 0 hoch', 'Klotz 7 rechts', 'Klotz 4 rechts', 'Klotz 6 hoch', 'Klotz 8 hoch', 'Klotz 9 runter', 'Klotz 8 runter', 'Klotz 6 runter', 'Klotz 4 links', 'Klotz 5 runter', 'Klotz 5 runter', 'Klotz 0 links', 'Klotz 7 hoch', 'Klotz 2 hoch', 'Klotz 7 hoch', 'Klotz 2 hoch', 'Klotz 9 rechts', 'Klotz 2 runter', 'Klotz 5 runter', 'Klotz 0 runter', 'Klotz 2 hoch', 'Klotz 0 hoch', 'Klotz 4 rechts', 'Klotz 2 runter', 'Klotz 6 hoch', 'Klotz 2 hoch', 'Klotz 8 hoch', 'Klotz 9 hoch', 'Klotz 8 runter', 'Klotz 6 runter', 'Klotz 4 links', 'Klotz 0 runter', 'Klotz 7 links', 'Klotz 2 hoch', 'Klotz 9 hoch', 'Klotz 5 rechts', 'Klotz 0 runter', 'Klotz 0 runter', 'Klotz 4 rechts', 'Klotz 6 hoch', 'Klotz 7 runter', 'Klotz 6 runter', 'Klotz 4 links', 'Klotz 7 runter', 'Klotz 2 links', 'Klotz 9 hoch', 'Klotz 5 hoch', 'Klotz 9 hoch', 'Klotz 5 runter', 'Klotz 7 rechts', 'Klotz 0 hoch', 'Klotz 7 hoch', 'Klotz 0 runter', 'Klotz 2 runter', 'Klotz 5 hoch', 'Klotz 2 hoch', 'Klotz 4 rechts', 'Klotz 5 runter', 'Klotz 4 rechts', 'Klotz 3 hoch', 'Klotz 6 hoch', 'Klotz 3 runter', 'Klotz 4 links', 'Klotz 5 hoch', 'Klotz 8 hoch', 'Klotz 5 runter', 'Klotz 7 runter', 'Klotz 8 runter', 'Klotz 6 runter', 'Klotz 9 runter', 'Klotz 4 links', 'Klotz 2 runter', 'Klotz 9 hoch', 'Klotz 9 links', 'Klotz 7 hoch', 'Klotz 5 hoch', 'Klotz 7 hoch', 'Klotz 5 hoch', 'Klotz 0 rechts', 'Klotz 3 rechts', 'Klotz 6 rechts', 'Klotz 6 runter', 'Klotz 4 runter', 'Klotz 1 runter', 'Klotz 9 links', 'Klotz 2 hoch', 'Klotz 3 hoch', 'Klotz 6 rechts', 'Klotz 8 rechts', 'Klotz 9 links', 'Klotz 8 links', 'Klotz 6 links', 'Klotz 3 runter', 'Klotz 2 runter', 'Klotz 7 links', 'Klotz 5 hoch', 'Klotz 0 hoch', 'Klotz 7 links', 'Klotz 0 runter', 'Klotz 2 hoch', 'Klotz 0 hoch', 'Klotz 3 hoch', 'Klotz 0 runter', 'Klotz 5 runter', 'Klotz 6 rechts', 'Klotz 5 hoch', 'Klotz 0 hoch', 'Klotz 6 rechts', 'Klotz 3 runter', 'Klotz 2 runter', 'Klotz 7 rechts', 'Klotz 8 rechts', 'Klotz 7 links', 'Klotz 2 hoch', 'Klotz 3 hoch', 'Klotz 8 rechts', 'Klotz 4 runter', 'Klotz 1 runter', 'Klotz 7 runter', 'Klotz 7 links', 'Klotz 2 links', 'Klotz 3 hoch', 'Klotz 3 hoch', 'Klotz 1 rechts', 'Klotz 7 runter', 'Klotz 7 runter', 'Klotz 9 runter', 'Klotz 9 runter', 'Klotz 2 links', 'Klotz 3 links', 'Klotz 5 links', 'Klotz 0 hoch', 'Klotz 0 hoch', 'Klotz 1 rechts', 'Klotz 3 runter', 'Klotz 3 runter', 'Klotz 2 rechts', 'Klotz 9 hoch', 'Klotz 7 hoch', 'Klotz 9 hoch', 'Klotz 7 hoch', 'Klotz 3 links', 'Klotz 2 runter', 'Klotz 2 runter', 'Klotz 7 rechts', 'Klotz 3 hoch', 'Klotz 7 hoch', 'Klotz 2 hoch', 'Klotz 4 hoch', 'Klotz 8 links', 'Klotz 6 links', 'Klotz 8 links', 'Klotz 6 links', 'Klotz 1 runter', 'Klotz 0 runter', 'Klotz 5 runter', 'Klotz 0 hoch', 'Klotz 7 rechts', 'Klotz 0 runter', 'Klotz 2 hoch', 'Klotz 7 rechts', 'Klotz 2 runter', 'Klotz 5 hoch', 'Klotz 9 rechts', 'Klotz 3 hoch', 'Klotz 5 runter', 'Klotz 3 runter', 'Klotz 9 rechts', 'Klotz 2 hoch', 'Klotz 3 hoch', 'Klotz 4 hoch', 'Klotz 6 hoch', 'Klotz 6 links', 'Klotz 1 links']\n",
      "[['3' '2' '9' '7']\n",
      " ['3' '2' '5' '0']\n",
      " ['4' '4' '5' '0']\n",
      " ['6' '1' '1' ' ']\n",
      " ['8' '1' '1' ' ']] \n",
      "\n"
     ]
    }
   ],
   "source": [
    "history = []\n",
    "num_lösungen = 0\n",
    "tiefe = -1\n",
    "\n",
    "solve(pieces.copy(), tiefe, 500, [])"
   ]
  }
 ],
 "metadata": {
  "kernelspec": {
   "display_name": "Python 3",
   "language": "python",
   "name": "python3"
  },
  "language_info": {
   "codemirror_mode": {
    "name": "ipython",
    "version": 3
   },
   "file_extension": ".py",
   "mimetype": "text/x-python",
   "name": "python",
   "nbconvert_exporter": "python",
   "pygments_lexer": "ipython3",
   "version": "3.7.6"
  },
  "widgets": {
   "application/vnd.jupyter.widget-state+json": {
    "state": {},
    "version_major": 2,
    "version_minor": 0
   }
  }
 },
 "nbformat": 4,
 "nbformat_minor": 4
}
